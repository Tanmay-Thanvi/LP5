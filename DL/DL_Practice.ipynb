{
  "nbformat": 4,
  "nbformat_minor": 0,
  "metadata": {
    "colab": {
      "provenance": []
    },
    "kernelspec": {
      "name": "python3",
      "display_name": "Python 3"
    },
    "language_info": {
      "name": "python"
    }
  },
  "cells": [
    {
      "cell_type": "markdown",
      "source": [
        "# Linear Regression"
      ],
      "metadata": {
        "id": "-JlEluvjMlyc"
      }
    },
    {
      "cell_type": "markdown",
      "source": [
        "Check for Tensorflow installation"
      ],
      "metadata": {
        "id": "yqYB6ytgMs5W"
      }
    },
    {
      "cell_type": "code",
      "execution_count": null,
      "metadata": {
        "colab": {
          "base_uri": "https://localhost:8080/"
        },
        "id": "1Or_nSHRMKdC",
        "outputId": "beb42581-263a-407d-9351-e6ed52609b3a"
      },
      "outputs": [
        {
          "output_type": "stream",
          "name": "stdout",
          "text": [
            "TensorFlow is installed. Version: 2.15.0\n"
          ]
        }
      ],
      "source": [
        "try:\n",
        "    import tensorflow as tf\n",
        "    print(\"TensorFlow is installed. Version:\", tf.__version__)\n",
        "except ImportError:\n",
        "    print(\"TensorFlow is not installed. Installing Now.....\")\n",
        "    !pip install tensorflow"
      ]
    },
    {
      "cell_type": "markdown",
      "source": [
        "Cleaning & Preprocessing"
      ],
      "metadata": {
        "id": "mCt8UykFMx36"
      }
    },
    {
      "cell_type": "code",
      "source": [
        "import numpy as np\n",
        "import pandas as pd"
      ],
      "metadata": {
        "id": "oJ0PtcZ9MxiU"
      },
      "execution_count": null,
      "outputs": []
    },
    {
      "cell_type": "code",
      "source": [
        "df = pd.read_csv('/content/drive/MyDrive/Colab Notebooks/1_boston_housing.csv',na_values='NA')"
      ],
      "metadata": {
        "id": "N2bawLkBNYT4"
      },
      "execution_count": null,
      "outputs": []
    },
    {
      "cell_type": "code",
      "source": [
        "df.head()"
      ],
      "metadata": {
        "colab": {
          "base_uri": "https://localhost:8080/",
          "height": 206
        },
        "id": "0k-KL65qPGmi",
        "outputId": "e8521a2a-8771-4b7e-af04-688cafd6305b"
      },
      "execution_count": null,
      "outputs": [
        {
          "output_type": "execute_result",
          "data": {
            "text/plain": [
              "      crim    zn  indus  chas    nox     rm   age     dis  rad  tax  ptratio  \\\n",
              "0  0.00632  18.0   2.31     0  0.538  6.575  65.2  4.0900    1  296     15.3   \n",
              "1  0.02731   0.0   7.07     0  0.469  6.421  78.9  4.9671    2  242     17.8   \n",
              "2  0.02729   0.0   7.07     0  0.469  7.185  61.1  4.9671    2  242     17.8   \n",
              "3  0.03237   0.0   2.18     0  0.458  6.998  45.8  6.0622    3  222     18.7   \n",
              "4  0.06905   0.0   2.18     0  0.458  7.147  54.2  6.0622    3  222     18.7   \n",
              "\n",
              "        b  lstat  MEDV  \n",
              "0  396.90   4.98  24.0  \n",
              "1  396.90   9.14  21.6  \n",
              "2  392.83   4.03  34.7  \n",
              "3  394.63   2.94  33.4  \n",
              "4  396.90   5.33  36.2  "
            ],
            "text/html": [
              "\n",
              "  <div id=\"df-ce9b53b1-7578-4e6f-beaf-cf4944fa056a\" class=\"colab-df-container\">\n",
              "    <div>\n",
              "<style scoped>\n",
              "    .dataframe tbody tr th:only-of-type {\n",
              "        vertical-align: middle;\n",
              "    }\n",
              "\n",
              "    .dataframe tbody tr th {\n",
              "        vertical-align: top;\n",
              "    }\n",
              "\n",
              "    .dataframe thead th {\n",
              "        text-align: right;\n",
              "    }\n",
              "</style>\n",
              "<table border=\"1\" class=\"dataframe\">\n",
              "  <thead>\n",
              "    <tr style=\"text-align: right;\">\n",
              "      <th></th>\n",
              "      <th>crim</th>\n",
              "      <th>zn</th>\n",
              "      <th>indus</th>\n",
              "      <th>chas</th>\n",
              "      <th>nox</th>\n",
              "      <th>rm</th>\n",
              "      <th>age</th>\n",
              "      <th>dis</th>\n",
              "      <th>rad</th>\n",
              "      <th>tax</th>\n",
              "      <th>ptratio</th>\n",
              "      <th>b</th>\n",
              "      <th>lstat</th>\n",
              "      <th>MEDV</th>\n",
              "    </tr>\n",
              "  </thead>\n",
              "  <tbody>\n",
              "    <tr>\n",
              "      <th>0</th>\n",
              "      <td>0.00632</td>\n",
              "      <td>18.0</td>\n",
              "      <td>2.31</td>\n",
              "      <td>0</td>\n",
              "      <td>0.538</td>\n",
              "      <td>6.575</td>\n",
              "      <td>65.2</td>\n",
              "      <td>4.0900</td>\n",
              "      <td>1</td>\n",
              "      <td>296</td>\n",
              "      <td>15.3</td>\n",
              "      <td>396.90</td>\n",
              "      <td>4.98</td>\n",
              "      <td>24.0</td>\n",
              "    </tr>\n",
              "    <tr>\n",
              "      <th>1</th>\n",
              "      <td>0.02731</td>\n",
              "      <td>0.0</td>\n",
              "      <td>7.07</td>\n",
              "      <td>0</td>\n",
              "      <td>0.469</td>\n",
              "      <td>6.421</td>\n",
              "      <td>78.9</td>\n",
              "      <td>4.9671</td>\n",
              "      <td>2</td>\n",
              "      <td>242</td>\n",
              "      <td>17.8</td>\n",
              "      <td>396.90</td>\n",
              "      <td>9.14</td>\n",
              "      <td>21.6</td>\n",
              "    </tr>\n",
              "    <tr>\n",
              "      <th>2</th>\n",
              "      <td>0.02729</td>\n",
              "      <td>0.0</td>\n",
              "      <td>7.07</td>\n",
              "      <td>0</td>\n",
              "      <td>0.469</td>\n",
              "      <td>7.185</td>\n",
              "      <td>61.1</td>\n",
              "      <td>4.9671</td>\n",
              "      <td>2</td>\n",
              "      <td>242</td>\n",
              "      <td>17.8</td>\n",
              "      <td>392.83</td>\n",
              "      <td>4.03</td>\n",
              "      <td>34.7</td>\n",
              "    </tr>\n",
              "    <tr>\n",
              "      <th>3</th>\n",
              "      <td>0.03237</td>\n",
              "      <td>0.0</td>\n",
              "      <td>2.18</td>\n",
              "      <td>0</td>\n",
              "      <td>0.458</td>\n",
              "      <td>6.998</td>\n",
              "      <td>45.8</td>\n",
              "      <td>6.0622</td>\n",
              "      <td>3</td>\n",
              "      <td>222</td>\n",
              "      <td>18.7</td>\n",
              "      <td>394.63</td>\n",
              "      <td>2.94</td>\n",
              "      <td>33.4</td>\n",
              "    </tr>\n",
              "    <tr>\n",
              "      <th>4</th>\n",
              "      <td>0.06905</td>\n",
              "      <td>0.0</td>\n",
              "      <td>2.18</td>\n",
              "      <td>0</td>\n",
              "      <td>0.458</td>\n",
              "      <td>7.147</td>\n",
              "      <td>54.2</td>\n",
              "      <td>6.0622</td>\n",
              "      <td>3</td>\n",
              "      <td>222</td>\n",
              "      <td>18.7</td>\n",
              "      <td>396.90</td>\n",
              "      <td>5.33</td>\n",
              "      <td>36.2</td>\n",
              "    </tr>\n",
              "  </tbody>\n",
              "</table>\n",
              "</div>\n",
              "    <div class=\"colab-df-buttons\">\n",
              "\n",
              "  <div class=\"colab-df-container\">\n",
              "    <button class=\"colab-df-convert\" onclick=\"convertToInteractive('df-ce9b53b1-7578-4e6f-beaf-cf4944fa056a')\"\n",
              "            title=\"Convert this dataframe to an interactive table.\"\n",
              "            style=\"display:none;\">\n",
              "\n",
              "  <svg xmlns=\"http://www.w3.org/2000/svg\" height=\"24px\" viewBox=\"0 -960 960 960\">\n",
              "    <path d=\"M120-120v-720h720v720H120Zm60-500h600v-160H180v160Zm220 220h160v-160H400v160Zm0 220h160v-160H400v160ZM180-400h160v-160H180v160Zm440 0h160v-160H620v160ZM180-180h160v-160H180v160Zm440 0h160v-160H620v160Z\"/>\n",
              "  </svg>\n",
              "    </button>\n",
              "\n",
              "  <style>\n",
              "    .colab-df-container {\n",
              "      display:flex;\n",
              "      gap: 12px;\n",
              "    }\n",
              "\n",
              "    .colab-df-convert {\n",
              "      background-color: #E8F0FE;\n",
              "      border: none;\n",
              "      border-radius: 50%;\n",
              "      cursor: pointer;\n",
              "      display: none;\n",
              "      fill: #1967D2;\n",
              "      height: 32px;\n",
              "      padding: 0 0 0 0;\n",
              "      width: 32px;\n",
              "    }\n",
              "\n",
              "    .colab-df-convert:hover {\n",
              "      background-color: #E2EBFA;\n",
              "      box-shadow: 0px 1px 2px rgba(60, 64, 67, 0.3), 0px 1px 3px 1px rgba(60, 64, 67, 0.15);\n",
              "      fill: #174EA6;\n",
              "    }\n",
              "\n",
              "    .colab-df-buttons div {\n",
              "      margin-bottom: 4px;\n",
              "    }\n",
              "\n",
              "    [theme=dark] .colab-df-convert {\n",
              "      background-color: #3B4455;\n",
              "      fill: #D2E3FC;\n",
              "    }\n",
              "\n",
              "    [theme=dark] .colab-df-convert:hover {\n",
              "      background-color: #434B5C;\n",
              "      box-shadow: 0px 1px 3px 1px rgba(0, 0, 0, 0.15);\n",
              "      filter: drop-shadow(0px 1px 2px rgba(0, 0, 0, 0.3));\n",
              "      fill: #FFFFFF;\n",
              "    }\n",
              "  </style>\n",
              "\n",
              "    <script>\n",
              "      const buttonEl =\n",
              "        document.querySelector('#df-ce9b53b1-7578-4e6f-beaf-cf4944fa056a button.colab-df-convert');\n",
              "      buttonEl.style.display =\n",
              "        google.colab.kernel.accessAllowed ? 'block' : 'none';\n",
              "\n",
              "      async function convertToInteractive(key) {\n",
              "        const element = document.querySelector('#df-ce9b53b1-7578-4e6f-beaf-cf4944fa056a');\n",
              "        const dataTable =\n",
              "          await google.colab.kernel.invokeFunction('convertToInteractive',\n",
              "                                                    [key], {});\n",
              "        if (!dataTable) return;\n",
              "\n",
              "        const docLinkHtml = 'Like what you see? Visit the ' +\n",
              "          '<a target=\"_blank\" href=https://colab.research.google.com/notebooks/data_table.ipynb>data table notebook</a>'\n",
              "          + ' to learn more about interactive tables.';\n",
              "        element.innerHTML = '';\n",
              "        dataTable['output_type'] = 'display_data';\n",
              "        await google.colab.output.renderOutput(dataTable, element);\n",
              "        const docLink = document.createElement('div');\n",
              "        docLink.innerHTML = docLinkHtml;\n",
              "        element.appendChild(docLink);\n",
              "      }\n",
              "    </script>\n",
              "  </div>\n",
              "\n",
              "\n",
              "<div id=\"df-21dde055-3e56-4c32-9b7f-26f34a3a572a\">\n",
              "  <button class=\"colab-df-quickchart\" onclick=\"quickchart('df-21dde055-3e56-4c32-9b7f-26f34a3a572a')\"\n",
              "            title=\"Suggest charts\"\n",
              "            style=\"display:none;\">\n",
              "\n",
              "<svg xmlns=\"http://www.w3.org/2000/svg\" height=\"24px\"viewBox=\"0 0 24 24\"\n",
              "     width=\"24px\">\n",
              "    <g>\n",
              "        <path d=\"M19 3H5c-1.1 0-2 .9-2 2v14c0 1.1.9 2 2 2h14c1.1 0 2-.9 2-2V5c0-1.1-.9-2-2-2zM9 17H7v-7h2v7zm4 0h-2V7h2v10zm4 0h-2v-4h2v4z\"/>\n",
              "    </g>\n",
              "</svg>\n",
              "  </button>\n",
              "\n",
              "<style>\n",
              "  .colab-df-quickchart {\n",
              "      --bg-color: #E8F0FE;\n",
              "      --fill-color: #1967D2;\n",
              "      --hover-bg-color: #E2EBFA;\n",
              "      --hover-fill-color: #174EA6;\n",
              "      --disabled-fill-color: #AAA;\n",
              "      --disabled-bg-color: #DDD;\n",
              "  }\n",
              "\n",
              "  [theme=dark] .colab-df-quickchart {\n",
              "      --bg-color: #3B4455;\n",
              "      --fill-color: #D2E3FC;\n",
              "      --hover-bg-color: #434B5C;\n",
              "      --hover-fill-color: #FFFFFF;\n",
              "      --disabled-bg-color: #3B4455;\n",
              "      --disabled-fill-color: #666;\n",
              "  }\n",
              "\n",
              "  .colab-df-quickchart {\n",
              "    background-color: var(--bg-color);\n",
              "    border: none;\n",
              "    border-radius: 50%;\n",
              "    cursor: pointer;\n",
              "    display: none;\n",
              "    fill: var(--fill-color);\n",
              "    height: 32px;\n",
              "    padding: 0;\n",
              "    width: 32px;\n",
              "  }\n",
              "\n",
              "  .colab-df-quickchart:hover {\n",
              "    background-color: var(--hover-bg-color);\n",
              "    box-shadow: 0 1px 2px rgba(60, 64, 67, 0.3), 0 1px 3px 1px rgba(60, 64, 67, 0.15);\n",
              "    fill: var(--button-hover-fill-color);\n",
              "  }\n",
              "\n",
              "  .colab-df-quickchart-complete:disabled,\n",
              "  .colab-df-quickchart-complete:disabled:hover {\n",
              "    background-color: var(--disabled-bg-color);\n",
              "    fill: var(--disabled-fill-color);\n",
              "    box-shadow: none;\n",
              "  }\n",
              "\n",
              "  .colab-df-spinner {\n",
              "    border: 2px solid var(--fill-color);\n",
              "    border-color: transparent;\n",
              "    border-bottom-color: var(--fill-color);\n",
              "    animation:\n",
              "      spin 1s steps(1) infinite;\n",
              "  }\n",
              "\n",
              "  @keyframes spin {\n",
              "    0% {\n",
              "      border-color: transparent;\n",
              "      border-bottom-color: var(--fill-color);\n",
              "      border-left-color: var(--fill-color);\n",
              "    }\n",
              "    20% {\n",
              "      border-color: transparent;\n",
              "      border-left-color: var(--fill-color);\n",
              "      border-top-color: var(--fill-color);\n",
              "    }\n",
              "    30% {\n",
              "      border-color: transparent;\n",
              "      border-left-color: var(--fill-color);\n",
              "      border-top-color: var(--fill-color);\n",
              "      border-right-color: var(--fill-color);\n",
              "    }\n",
              "    40% {\n",
              "      border-color: transparent;\n",
              "      border-right-color: var(--fill-color);\n",
              "      border-top-color: var(--fill-color);\n",
              "    }\n",
              "    60% {\n",
              "      border-color: transparent;\n",
              "      border-right-color: var(--fill-color);\n",
              "    }\n",
              "    80% {\n",
              "      border-color: transparent;\n",
              "      border-right-color: var(--fill-color);\n",
              "      border-bottom-color: var(--fill-color);\n",
              "    }\n",
              "    90% {\n",
              "      border-color: transparent;\n",
              "      border-bottom-color: var(--fill-color);\n",
              "    }\n",
              "  }\n",
              "</style>\n",
              "\n",
              "  <script>\n",
              "    async function quickchart(key) {\n",
              "      const quickchartButtonEl =\n",
              "        document.querySelector('#' + key + ' button');\n",
              "      quickchartButtonEl.disabled = true;  // To prevent multiple clicks.\n",
              "      quickchartButtonEl.classList.add('colab-df-spinner');\n",
              "      try {\n",
              "        const charts = await google.colab.kernel.invokeFunction(\n",
              "            'suggestCharts', [key], {});\n",
              "      } catch (error) {\n",
              "        console.error('Error during call to suggestCharts:', error);\n",
              "      }\n",
              "      quickchartButtonEl.classList.remove('colab-df-spinner');\n",
              "      quickchartButtonEl.classList.add('colab-df-quickchart-complete');\n",
              "    }\n",
              "    (() => {\n",
              "      let quickchartButtonEl =\n",
              "        document.querySelector('#df-21dde055-3e56-4c32-9b7f-26f34a3a572a button');\n",
              "      quickchartButtonEl.style.display =\n",
              "        google.colab.kernel.accessAllowed ? 'block' : 'none';\n",
              "    })();\n",
              "  </script>\n",
              "</div>\n",
              "\n",
              "    </div>\n",
              "  </div>\n"
            ],
            "application/vnd.google.colaboratory.intrinsic+json": {
              "type": "dataframe",
              "variable_name": "df",
              "summary": "{\n  \"name\": \"df\",\n  \"rows\": 506,\n  \"fields\": [\n    {\n      \"column\": \"crim\",\n      \"properties\": {\n        \"dtype\": \"number\",\n        \"std\": 8.60154510533249,\n        \"min\": 0.00632,\n        \"max\": 88.9762,\n        \"num_unique_values\": 504,\n        \"samples\": [\n          0.09178,\n          0.05644,\n          0.10574\n        ],\n        \"semantic_type\": \"\",\n        \"description\": \"\"\n      }\n    },\n    {\n      \"column\": \"zn\",\n      \"properties\": {\n        \"dtype\": \"number\",\n        \"std\": 23.32245299451514,\n        \"min\": 0.0,\n        \"max\": 100.0,\n        \"num_unique_values\": 26,\n        \"samples\": [\n          25.0,\n          30.0,\n          18.0\n        ],\n        \"semantic_type\": \"\",\n        \"description\": \"\"\n      }\n    },\n    {\n      \"column\": \"indus\",\n      \"properties\": {\n        \"dtype\": \"number\",\n        \"std\": 6.860352940897585,\n        \"min\": 0.46,\n        \"max\": 27.74,\n        \"num_unique_values\": 76,\n        \"samples\": [\n          8.14,\n          1.47,\n          1.22\n        ],\n        \"semantic_type\": \"\",\n        \"description\": \"\"\n      }\n    },\n    {\n      \"column\": \"chas\",\n      \"properties\": {\n        \"dtype\": \"number\",\n        \"std\": 0,\n        \"min\": 0,\n        \"max\": 1,\n        \"num_unique_values\": 2,\n        \"samples\": [\n          1,\n          0\n        ],\n        \"semantic_type\": \"\",\n        \"description\": \"\"\n      }\n    },\n    {\n      \"column\": \"nox\",\n      \"properties\": {\n        \"dtype\": \"number\",\n        \"std\": 0.11587767566755595,\n        \"min\": 0.385,\n        \"max\": 0.871,\n        \"num_unique_values\": 81,\n        \"samples\": [\n          0.401,\n          0.538\n        ],\n        \"semantic_type\": \"\",\n        \"description\": \"\"\n      }\n    },\n    {\n      \"column\": \"rm\",\n      \"properties\": {\n        \"dtype\": \"number\",\n        \"std\": 0.7026171434153233,\n        \"min\": 3.561,\n        \"max\": 8.78,\n        \"num_unique_values\": 446,\n        \"samples\": [\n          6.849,\n          4.88\n        ],\n        \"semantic_type\": \"\",\n        \"description\": \"\"\n      }\n    },\n    {\n      \"column\": \"age\",\n      \"properties\": {\n        \"dtype\": \"number\",\n        \"std\": 28.148861406903617,\n        \"min\": 2.9,\n        \"max\": 100.0,\n        \"num_unique_values\": 356,\n        \"samples\": [\n          51.8,\n          33.8\n        ],\n        \"semantic_type\": \"\",\n        \"description\": \"\"\n      }\n    },\n    {\n      \"column\": \"dis\",\n      \"properties\": {\n        \"dtype\": \"number\",\n        \"std\": 2.105710126627611,\n        \"min\": 1.1296,\n        \"max\": 12.1265,\n        \"num_unique_values\": 412,\n        \"samples\": [\n          2.2955,\n          4.2515\n        ],\n        \"semantic_type\": \"\",\n        \"description\": \"\"\n      }\n    },\n    {\n      \"column\": \"rad\",\n      \"properties\": {\n        \"dtype\": \"number\",\n        \"std\": 8,\n        \"min\": 1,\n        \"max\": 24,\n        \"num_unique_values\": 9,\n        \"samples\": [\n          7,\n          2\n        ],\n        \"semantic_type\": \"\",\n        \"description\": \"\"\n      }\n    },\n    {\n      \"column\": \"tax\",\n      \"properties\": {\n        \"dtype\": \"number\",\n        \"std\": 168,\n        \"min\": 187,\n        \"max\": 711,\n        \"num_unique_values\": 66,\n        \"samples\": [\n          370,\n          666\n        ],\n        \"semantic_type\": \"\",\n        \"description\": \"\"\n      }\n    },\n    {\n      \"column\": \"ptratio\",\n      \"properties\": {\n        \"dtype\": \"number\",\n        \"std\": 2.1649455237144406,\n        \"min\": 12.6,\n        \"max\": 22.0,\n        \"num_unique_values\": 46,\n        \"samples\": [\n          19.6,\n          15.6\n        ],\n        \"semantic_type\": \"\",\n        \"description\": \"\"\n      }\n    },\n    {\n      \"column\": \"b\",\n      \"properties\": {\n        \"dtype\": \"number\",\n        \"std\": 91.29486438415783,\n        \"min\": 0.32,\n        \"max\": 396.9,\n        \"num_unique_values\": 357,\n        \"samples\": [\n          396.24,\n          395.11\n        ],\n        \"semantic_type\": \"\",\n        \"description\": \"\"\n      }\n    },\n    {\n      \"column\": \"lstat\",\n      \"properties\": {\n        \"dtype\": \"number\",\n        \"std\": 7.141061511348571,\n        \"min\": 1.73,\n        \"max\": 37.97,\n        \"num_unique_values\": 455,\n        \"samples\": [\n          6.15,\n          4.32\n        ],\n        \"semantic_type\": \"\",\n        \"description\": \"\"\n      }\n    },\n    {\n      \"column\": \"MEDV\",\n      \"properties\": {\n        \"dtype\": \"number\",\n        \"std\": 9.197104087379818,\n        \"min\": 5.0,\n        \"max\": 50.0,\n        \"num_unique_values\": 229,\n        \"samples\": [\n          14.1,\n          22.5\n        ],\n        \"semantic_type\": \"\",\n        \"description\": \"\"\n      }\n    }\n  ]\n}"
            }
          },
          "metadata": {},
          "execution_count": 5
        }
      ]
    },
    {
      "cell_type": "code",
      "source": [
        "df.columns"
      ],
      "metadata": {
        "colab": {
          "base_uri": "https://localhost:8080/"
        },
        "id": "actXbY-vNaw3",
        "outputId": "e2f66bc9-546b-454f-b4d6-2b667644f2ed"
      },
      "execution_count": null,
      "outputs": [
        {
          "output_type": "execute_result",
          "data": {
            "text/plain": [
              "Index(['crim', 'zn', 'indus', 'chas', 'nox', 'rm', 'age', 'dis', 'rad', 'tax',\n",
              "       'ptratio', 'b', 'lstat', 'MEDV'],\n",
              "      dtype='object')"
            ]
          },
          "metadata": {},
          "execution_count": 6
        }
      ]
    },
    {
      "cell_type": "code",
      "source": [
        "df.describe()"
      ],
      "metadata": {
        "colab": {
          "base_uri": "https://localhost:8080/",
          "height": 300
        },
        "id": "LQOHFV4oNfjz",
        "outputId": "7fd15e78-4857-4237-dfb2-d496c43cb726"
      },
      "execution_count": null,
      "outputs": [
        {
          "output_type": "execute_result",
          "data": {
            "text/plain": [
              "             crim          zn       indus        chas         nox          rm  \\\n",
              "count  506.000000  506.000000  506.000000  506.000000  506.000000  506.000000   \n",
              "mean     3.613524   11.363636   11.136779    0.069170    0.554695    6.284634   \n",
              "std      8.601545   23.322453    6.860353    0.253994    0.115878    0.702617   \n",
              "min      0.006320    0.000000    0.460000    0.000000    0.385000    3.561000   \n",
              "25%      0.082045    0.000000    5.190000    0.000000    0.449000    5.885500   \n",
              "50%      0.256510    0.000000    9.690000    0.000000    0.538000    6.208500   \n",
              "75%      3.677083   12.500000   18.100000    0.000000    0.624000    6.623500   \n",
              "max     88.976200  100.000000   27.740000    1.000000    0.871000    8.780000   \n",
              "\n",
              "              age         dis         rad         tax     ptratio           b  \\\n",
              "count  506.000000  506.000000  506.000000  506.000000  506.000000  506.000000   \n",
              "mean    68.574901    3.795043    9.549407  408.237154   18.455534  356.674032   \n",
              "std     28.148861    2.105710    8.707259  168.537116    2.164946   91.294864   \n",
              "min      2.900000    1.129600    1.000000  187.000000   12.600000    0.320000   \n",
              "25%     45.025000    2.100175    4.000000  279.000000   17.400000  375.377500   \n",
              "50%     77.500000    3.207450    5.000000  330.000000   19.050000  391.440000   \n",
              "75%     94.075000    5.188425   24.000000  666.000000   20.200000  396.225000   \n",
              "max    100.000000   12.126500   24.000000  711.000000   22.000000  396.900000   \n",
              "\n",
              "            lstat        MEDV  \n",
              "count  506.000000  506.000000  \n",
              "mean    12.653063   22.532806  \n",
              "std      7.141062    9.197104  \n",
              "min      1.730000    5.000000  \n",
              "25%      6.950000   17.025000  \n",
              "50%     11.360000   21.200000  \n",
              "75%     16.955000   25.000000  \n",
              "max     37.970000   50.000000  "
            ],
            "text/html": [
              "\n",
              "  <div id=\"df-15f6831e-2eb3-4180-8310-3fbac209fe21\" class=\"colab-df-container\">\n",
              "    <div>\n",
              "<style scoped>\n",
              "    .dataframe tbody tr th:only-of-type {\n",
              "        vertical-align: middle;\n",
              "    }\n",
              "\n",
              "    .dataframe tbody tr th {\n",
              "        vertical-align: top;\n",
              "    }\n",
              "\n",
              "    .dataframe thead th {\n",
              "        text-align: right;\n",
              "    }\n",
              "</style>\n",
              "<table border=\"1\" class=\"dataframe\">\n",
              "  <thead>\n",
              "    <tr style=\"text-align: right;\">\n",
              "      <th></th>\n",
              "      <th>crim</th>\n",
              "      <th>zn</th>\n",
              "      <th>indus</th>\n",
              "      <th>chas</th>\n",
              "      <th>nox</th>\n",
              "      <th>rm</th>\n",
              "      <th>age</th>\n",
              "      <th>dis</th>\n",
              "      <th>rad</th>\n",
              "      <th>tax</th>\n",
              "      <th>ptratio</th>\n",
              "      <th>b</th>\n",
              "      <th>lstat</th>\n",
              "      <th>MEDV</th>\n",
              "    </tr>\n",
              "  </thead>\n",
              "  <tbody>\n",
              "    <tr>\n",
              "      <th>count</th>\n",
              "      <td>506.000000</td>\n",
              "      <td>506.000000</td>\n",
              "      <td>506.000000</td>\n",
              "      <td>506.000000</td>\n",
              "      <td>506.000000</td>\n",
              "      <td>506.000000</td>\n",
              "      <td>506.000000</td>\n",
              "      <td>506.000000</td>\n",
              "      <td>506.000000</td>\n",
              "      <td>506.000000</td>\n",
              "      <td>506.000000</td>\n",
              "      <td>506.000000</td>\n",
              "      <td>506.000000</td>\n",
              "      <td>506.000000</td>\n",
              "    </tr>\n",
              "    <tr>\n",
              "      <th>mean</th>\n",
              "      <td>3.613524</td>\n",
              "      <td>11.363636</td>\n",
              "      <td>11.136779</td>\n",
              "      <td>0.069170</td>\n",
              "      <td>0.554695</td>\n",
              "      <td>6.284634</td>\n",
              "      <td>68.574901</td>\n",
              "      <td>3.795043</td>\n",
              "      <td>9.549407</td>\n",
              "      <td>408.237154</td>\n",
              "      <td>18.455534</td>\n",
              "      <td>356.674032</td>\n",
              "      <td>12.653063</td>\n",
              "      <td>22.532806</td>\n",
              "    </tr>\n",
              "    <tr>\n",
              "      <th>std</th>\n",
              "      <td>8.601545</td>\n",
              "      <td>23.322453</td>\n",
              "      <td>6.860353</td>\n",
              "      <td>0.253994</td>\n",
              "      <td>0.115878</td>\n",
              "      <td>0.702617</td>\n",
              "      <td>28.148861</td>\n",
              "      <td>2.105710</td>\n",
              "      <td>8.707259</td>\n",
              "      <td>168.537116</td>\n",
              "      <td>2.164946</td>\n",
              "      <td>91.294864</td>\n",
              "      <td>7.141062</td>\n",
              "      <td>9.197104</td>\n",
              "    </tr>\n",
              "    <tr>\n",
              "      <th>min</th>\n",
              "      <td>0.006320</td>\n",
              "      <td>0.000000</td>\n",
              "      <td>0.460000</td>\n",
              "      <td>0.000000</td>\n",
              "      <td>0.385000</td>\n",
              "      <td>3.561000</td>\n",
              "      <td>2.900000</td>\n",
              "      <td>1.129600</td>\n",
              "      <td>1.000000</td>\n",
              "      <td>187.000000</td>\n",
              "      <td>12.600000</td>\n",
              "      <td>0.320000</td>\n",
              "      <td>1.730000</td>\n",
              "      <td>5.000000</td>\n",
              "    </tr>\n",
              "    <tr>\n",
              "      <th>25%</th>\n",
              "      <td>0.082045</td>\n",
              "      <td>0.000000</td>\n",
              "      <td>5.190000</td>\n",
              "      <td>0.000000</td>\n",
              "      <td>0.449000</td>\n",
              "      <td>5.885500</td>\n",
              "      <td>45.025000</td>\n",
              "      <td>2.100175</td>\n",
              "      <td>4.000000</td>\n",
              "      <td>279.000000</td>\n",
              "      <td>17.400000</td>\n",
              "      <td>375.377500</td>\n",
              "      <td>6.950000</td>\n",
              "      <td>17.025000</td>\n",
              "    </tr>\n",
              "    <tr>\n",
              "      <th>50%</th>\n",
              "      <td>0.256510</td>\n",
              "      <td>0.000000</td>\n",
              "      <td>9.690000</td>\n",
              "      <td>0.000000</td>\n",
              "      <td>0.538000</td>\n",
              "      <td>6.208500</td>\n",
              "      <td>77.500000</td>\n",
              "      <td>3.207450</td>\n",
              "      <td>5.000000</td>\n",
              "      <td>330.000000</td>\n",
              "      <td>19.050000</td>\n",
              "      <td>391.440000</td>\n",
              "      <td>11.360000</td>\n",
              "      <td>21.200000</td>\n",
              "    </tr>\n",
              "    <tr>\n",
              "      <th>75%</th>\n",
              "      <td>3.677083</td>\n",
              "      <td>12.500000</td>\n",
              "      <td>18.100000</td>\n",
              "      <td>0.000000</td>\n",
              "      <td>0.624000</td>\n",
              "      <td>6.623500</td>\n",
              "      <td>94.075000</td>\n",
              "      <td>5.188425</td>\n",
              "      <td>24.000000</td>\n",
              "      <td>666.000000</td>\n",
              "      <td>20.200000</td>\n",
              "      <td>396.225000</td>\n",
              "      <td>16.955000</td>\n",
              "      <td>25.000000</td>\n",
              "    </tr>\n",
              "    <tr>\n",
              "      <th>max</th>\n",
              "      <td>88.976200</td>\n",
              "      <td>100.000000</td>\n",
              "      <td>27.740000</td>\n",
              "      <td>1.000000</td>\n",
              "      <td>0.871000</td>\n",
              "      <td>8.780000</td>\n",
              "      <td>100.000000</td>\n",
              "      <td>12.126500</td>\n",
              "      <td>24.000000</td>\n",
              "      <td>711.000000</td>\n",
              "      <td>22.000000</td>\n",
              "      <td>396.900000</td>\n",
              "      <td>37.970000</td>\n",
              "      <td>50.000000</td>\n",
              "    </tr>\n",
              "  </tbody>\n",
              "</table>\n",
              "</div>\n",
              "    <div class=\"colab-df-buttons\">\n",
              "\n",
              "  <div class=\"colab-df-container\">\n",
              "    <button class=\"colab-df-convert\" onclick=\"convertToInteractive('df-15f6831e-2eb3-4180-8310-3fbac209fe21')\"\n",
              "            title=\"Convert this dataframe to an interactive table.\"\n",
              "            style=\"display:none;\">\n",
              "\n",
              "  <svg xmlns=\"http://www.w3.org/2000/svg\" height=\"24px\" viewBox=\"0 -960 960 960\">\n",
              "    <path d=\"M120-120v-720h720v720H120Zm60-500h600v-160H180v160Zm220 220h160v-160H400v160Zm0 220h160v-160H400v160ZM180-400h160v-160H180v160Zm440 0h160v-160H620v160ZM180-180h160v-160H180v160Zm440 0h160v-160H620v160Z\"/>\n",
              "  </svg>\n",
              "    </button>\n",
              "\n",
              "  <style>\n",
              "    .colab-df-container {\n",
              "      display:flex;\n",
              "      gap: 12px;\n",
              "    }\n",
              "\n",
              "    .colab-df-convert {\n",
              "      background-color: #E8F0FE;\n",
              "      border: none;\n",
              "      border-radius: 50%;\n",
              "      cursor: pointer;\n",
              "      display: none;\n",
              "      fill: #1967D2;\n",
              "      height: 32px;\n",
              "      padding: 0 0 0 0;\n",
              "      width: 32px;\n",
              "    }\n",
              "\n",
              "    .colab-df-convert:hover {\n",
              "      background-color: #E2EBFA;\n",
              "      box-shadow: 0px 1px 2px rgba(60, 64, 67, 0.3), 0px 1px 3px 1px rgba(60, 64, 67, 0.15);\n",
              "      fill: #174EA6;\n",
              "    }\n",
              "\n",
              "    .colab-df-buttons div {\n",
              "      margin-bottom: 4px;\n",
              "    }\n",
              "\n",
              "    [theme=dark] .colab-df-convert {\n",
              "      background-color: #3B4455;\n",
              "      fill: #D2E3FC;\n",
              "    }\n",
              "\n",
              "    [theme=dark] .colab-df-convert:hover {\n",
              "      background-color: #434B5C;\n",
              "      box-shadow: 0px 1px 3px 1px rgba(0, 0, 0, 0.15);\n",
              "      filter: drop-shadow(0px 1px 2px rgba(0, 0, 0, 0.3));\n",
              "      fill: #FFFFFF;\n",
              "    }\n",
              "  </style>\n",
              "\n",
              "    <script>\n",
              "      const buttonEl =\n",
              "        document.querySelector('#df-15f6831e-2eb3-4180-8310-3fbac209fe21 button.colab-df-convert');\n",
              "      buttonEl.style.display =\n",
              "        google.colab.kernel.accessAllowed ? 'block' : 'none';\n",
              "\n",
              "      async function convertToInteractive(key) {\n",
              "        const element = document.querySelector('#df-15f6831e-2eb3-4180-8310-3fbac209fe21');\n",
              "        const dataTable =\n",
              "          await google.colab.kernel.invokeFunction('convertToInteractive',\n",
              "                                                    [key], {});\n",
              "        if (!dataTable) return;\n",
              "\n",
              "        const docLinkHtml = 'Like what you see? Visit the ' +\n",
              "          '<a target=\"_blank\" href=https://colab.research.google.com/notebooks/data_table.ipynb>data table notebook</a>'\n",
              "          + ' to learn more about interactive tables.';\n",
              "        element.innerHTML = '';\n",
              "        dataTable['output_type'] = 'display_data';\n",
              "        await google.colab.output.renderOutput(dataTable, element);\n",
              "        const docLink = document.createElement('div');\n",
              "        docLink.innerHTML = docLinkHtml;\n",
              "        element.appendChild(docLink);\n",
              "      }\n",
              "    </script>\n",
              "  </div>\n",
              "\n",
              "\n",
              "<div id=\"df-b1e246f1-a71f-4a50-b648-ac1674514382\">\n",
              "  <button class=\"colab-df-quickchart\" onclick=\"quickchart('df-b1e246f1-a71f-4a50-b648-ac1674514382')\"\n",
              "            title=\"Suggest charts\"\n",
              "            style=\"display:none;\">\n",
              "\n",
              "<svg xmlns=\"http://www.w3.org/2000/svg\" height=\"24px\"viewBox=\"0 0 24 24\"\n",
              "     width=\"24px\">\n",
              "    <g>\n",
              "        <path d=\"M19 3H5c-1.1 0-2 .9-2 2v14c0 1.1.9 2 2 2h14c1.1 0 2-.9 2-2V5c0-1.1-.9-2-2-2zM9 17H7v-7h2v7zm4 0h-2V7h2v10zm4 0h-2v-4h2v4z\"/>\n",
              "    </g>\n",
              "</svg>\n",
              "  </button>\n",
              "\n",
              "<style>\n",
              "  .colab-df-quickchart {\n",
              "      --bg-color: #E8F0FE;\n",
              "      --fill-color: #1967D2;\n",
              "      --hover-bg-color: #E2EBFA;\n",
              "      --hover-fill-color: #174EA6;\n",
              "      --disabled-fill-color: #AAA;\n",
              "      --disabled-bg-color: #DDD;\n",
              "  }\n",
              "\n",
              "  [theme=dark] .colab-df-quickchart {\n",
              "      --bg-color: #3B4455;\n",
              "      --fill-color: #D2E3FC;\n",
              "      --hover-bg-color: #434B5C;\n",
              "      --hover-fill-color: #FFFFFF;\n",
              "      --disabled-bg-color: #3B4455;\n",
              "      --disabled-fill-color: #666;\n",
              "  }\n",
              "\n",
              "  .colab-df-quickchart {\n",
              "    background-color: var(--bg-color);\n",
              "    border: none;\n",
              "    border-radius: 50%;\n",
              "    cursor: pointer;\n",
              "    display: none;\n",
              "    fill: var(--fill-color);\n",
              "    height: 32px;\n",
              "    padding: 0;\n",
              "    width: 32px;\n",
              "  }\n",
              "\n",
              "  .colab-df-quickchart:hover {\n",
              "    background-color: var(--hover-bg-color);\n",
              "    box-shadow: 0 1px 2px rgba(60, 64, 67, 0.3), 0 1px 3px 1px rgba(60, 64, 67, 0.15);\n",
              "    fill: var(--button-hover-fill-color);\n",
              "  }\n",
              "\n",
              "  .colab-df-quickchart-complete:disabled,\n",
              "  .colab-df-quickchart-complete:disabled:hover {\n",
              "    background-color: var(--disabled-bg-color);\n",
              "    fill: var(--disabled-fill-color);\n",
              "    box-shadow: none;\n",
              "  }\n",
              "\n",
              "  .colab-df-spinner {\n",
              "    border: 2px solid var(--fill-color);\n",
              "    border-color: transparent;\n",
              "    border-bottom-color: var(--fill-color);\n",
              "    animation:\n",
              "      spin 1s steps(1) infinite;\n",
              "  }\n",
              "\n",
              "  @keyframes spin {\n",
              "    0% {\n",
              "      border-color: transparent;\n",
              "      border-bottom-color: var(--fill-color);\n",
              "      border-left-color: var(--fill-color);\n",
              "    }\n",
              "    20% {\n",
              "      border-color: transparent;\n",
              "      border-left-color: var(--fill-color);\n",
              "      border-top-color: var(--fill-color);\n",
              "    }\n",
              "    30% {\n",
              "      border-color: transparent;\n",
              "      border-left-color: var(--fill-color);\n",
              "      border-top-color: var(--fill-color);\n",
              "      border-right-color: var(--fill-color);\n",
              "    }\n",
              "    40% {\n",
              "      border-color: transparent;\n",
              "      border-right-color: var(--fill-color);\n",
              "      border-top-color: var(--fill-color);\n",
              "    }\n",
              "    60% {\n",
              "      border-color: transparent;\n",
              "      border-right-color: var(--fill-color);\n",
              "    }\n",
              "    80% {\n",
              "      border-color: transparent;\n",
              "      border-right-color: var(--fill-color);\n",
              "      border-bottom-color: var(--fill-color);\n",
              "    }\n",
              "    90% {\n",
              "      border-color: transparent;\n",
              "      border-bottom-color: var(--fill-color);\n",
              "    }\n",
              "  }\n",
              "</style>\n",
              "\n",
              "  <script>\n",
              "    async function quickchart(key) {\n",
              "      const quickchartButtonEl =\n",
              "        document.querySelector('#' + key + ' button');\n",
              "      quickchartButtonEl.disabled = true;  // To prevent multiple clicks.\n",
              "      quickchartButtonEl.classList.add('colab-df-spinner');\n",
              "      try {\n",
              "        const charts = await google.colab.kernel.invokeFunction(\n",
              "            'suggestCharts', [key], {});\n",
              "      } catch (error) {\n",
              "        console.error('Error during call to suggestCharts:', error);\n",
              "      }\n",
              "      quickchartButtonEl.classList.remove('colab-df-spinner');\n",
              "      quickchartButtonEl.classList.add('colab-df-quickchart-complete');\n",
              "    }\n",
              "    (() => {\n",
              "      let quickchartButtonEl =\n",
              "        document.querySelector('#df-b1e246f1-a71f-4a50-b648-ac1674514382 button');\n",
              "      quickchartButtonEl.style.display =\n",
              "        google.colab.kernel.accessAllowed ? 'block' : 'none';\n",
              "    })();\n",
              "  </script>\n",
              "</div>\n",
              "\n",
              "    </div>\n",
              "  </div>\n"
            ],
            "application/vnd.google.colaboratory.intrinsic+json": {
              "type": "dataframe",
              "summary": "{\n  \"name\": \"df\",\n  \"rows\": 8,\n  \"fields\": [\n    {\n      \"column\": \"crim\",\n      \"properties\": {\n        \"dtype\": \"number\",\n        \"std\": 176.21241273856964,\n        \"min\": 0.00632,\n        \"max\": 506.0,\n        \"num_unique_values\": 8,\n        \"samples\": [\n          3.613523557312254,\n          0.25651,\n          506.0\n        ],\n        \"semantic_type\": \"\",\n        \"description\": \"\"\n      }\n    },\n    {\n      \"column\": \"zn\",\n      \"properties\": {\n        \"dtype\": \"number\",\n        \"std\": 174.65631992520622,\n        \"min\": 0.0,\n        \"max\": 506.0,\n        \"num_unique_values\": 6,\n        \"samples\": [\n          506.0,\n          11.363636363636363,\n          100.0\n        ],\n        \"semantic_type\": \"\",\n        \"description\": \"\"\n      }\n    },\n    {\n      \"column\": \"indus\",\n      \"properties\": {\n        \"dtype\": \"number\",\n        \"std\": 175.10046881853455,\n        \"min\": 0.46,\n        \"max\": 506.0,\n        \"num_unique_values\": 8,\n        \"samples\": [\n          11.13677865612648,\n          9.69,\n          506.0\n        ],\n        \"semantic_type\": \"\",\n        \"description\": \"\"\n      }\n    },\n    {\n      \"column\": \"chas\",\n      \"properties\": {\n        \"dtype\": \"number\",\n        \"std\": 178.83151296515905,\n        \"min\": 0.0,\n        \"max\": 506.0,\n        \"num_unique_values\": 5,\n        \"samples\": [\n          0.0691699604743083,\n          1.0,\n          0.25399404134041037\n        ],\n        \"semantic_type\": \"\",\n        \"description\": \"\"\n      }\n    },\n    {\n      \"column\": \"nox\",\n      \"properties\": {\n        \"dtype\": \"number\",\n        \"std\": 178.71946937975397,\n        \"min\": 0.11587767566755595,\n        \"max\": 506.0,\n        \"num_unique_values\": 8,\n        \"samples\": [\n          0.5546950592885376,\n          0.538,\n          506.0\n        ],\n        \"semantic_type\": \"\",\n        \"description\": \"\"\n      }\n    },\n    {\n      \"column\": \"rm\",\n      \"properties\": {\n        \"dtype\": \"number\",\n        \"std\": 176.99257138815915,\n        \"min\": 0.7026171434153233,\n        \"max\": 506.0,\n        \"num_unique_values\": 8,\n        \"samples\": [\n          6.284634387351779,\n          6.2085,\n          506.0\n        ],\n        \"semantic_type\": \"\",\n        \"description\": \"\"\n      }\n    },\n    {\n      \"column\": \"age\",\n      \"properties\": {\n        \"dtype\": \"number\",\n        \"std\": 161.29423343904304,\n        \"min\": 2.9,\n        \"max\": 506.0,\n        \"num_unique_values\": 8,\n        \"samples\": [\n          68.57490118577076,\n          77.5,\n          506.0\n        ],\n        \"semantic_type\": \"\",\n        \"description\": \"\"\n      }\n    },\n    {\n      \"column\": \"dis\",\n      \"properties\": {\n        \"dtype\": \"number\",\n        \"std\": 177.4338019618181,\n        \"min\": 1.1296,\n        \"max\": 506.0,\n        \"num_unique_values\": 8,\n        \"samples\": [\n          3.795042687747036,\n          3.2074499999999997,\n          506.0\n        ],\n        \"semantic_type\": \"\",\n        \"description\": \"\"\n      }\n    },\n    {\n      \"column\": \"rad\",\n      \"properties\": {\n        \"dtype\": \"number\",\n        \"std\": 175.26272292595036,\n        \"min\": 1.0,\n        \"max\": 506.0,\n        \"num_unique_values\": 7,\n        \"samples\": [\n          506.0,\n          9.549407114624506,\n          5.0\n        ],\n        \"semantic_type\": \"\",\n        \"description\": \"\"\n      }\n    },\n    {\n      \"column\": \"tax\",\n      \"properties\": {\n        \"dtype\": \"number\",\n        \"std\": 205.93933614417858,\n        \"min\": 168.53711605495903,\n        \"max\": 711.0,\n        \"num_unique_values\": 8,\n        \"samples\": [\n          408.2371541501976,\n          330.0,\n          506.0\n        ],\n        \"semantic_type\": \"\",\n        \"description\": \"\"\n      }\n    },\n    {\n      \"column\": \"ptratio\",\n      \"properties\": {\n        \"dtype\": \"number\",\n        \"std\": 173.36059244426346,\n        \"min\": 2.1649455237144406,\n        \"max\": 506.0,\n        \"num_unique_values\": 8,\n        \"samples\": [\n          18.455533596837945,\n          19.05,\n          506.0\n        ],\n        \"semantic_type\": \"\",\n        \"description\": \"\"\n      }\n    },\n    {\n      \"column\": \"b\",\n      \"properties\": {\n        \"dtype\": \"number\",\n        \"std\": 173.23587641654387,\n        \"min\": 0.32,\n        \"max\": 506.0,\n        \"num_unique_values\": 8,\n        \"samples\": [\n          356.6740316205534,\n          391.44,\n          506.0\n        ],\n        \"semantic_type\": \"\",\n        \"description\": \"\"\n      }\n    },\n    {\n      \"column\": \"lstat\",\n      \"properties\": {\n        \"dtype\": \"number\",\n        \"std\": 174.45535325169888,\n        \"min\": 1.73,\n        \"max\": 506.0,\n        \"num_unique_values\": 8,\n        \"samples\": [\n          12.653063241106722,\n          11.36,\n          506.0\n        ],\n        \"semantic_type\": \"\",\n        \"description\": \"\"\n      }\n    },\n    {\n      \"column\": \"MEDV\",\n      \"properties\": {\n        \"dtype\": \"number\",\n        \"std\": 171.852511161592,\n        \"min\": 5.0,\n        \"max\": 506.0,\n        \"num_unique_values\": 8,\n        \"samples\": [\n          22.532806324110677,\n          21.2,\n          506.0\n        ],\n        \"semantic_type\": \"\",\n        \"description\": \"\"\n      }\n    }\n  ]\n}"
            }
          },
          "metadata": {},
          "execution_count": 7
        }
      ]
    },
    {
      "cell_type": "code",
      "source": [
        "df.isna().sum()"
      ],
      "metadata": {
        "colab": {
          "base_uri": "https://localhost:8080/"
        },
        "id": "dzcPeO-yNdBX",
        "outputId": "8c557067-d431-4bd5-c90b-3ae890dd9173"
      },
      "execution_count": null,
      "outputs": [
        {
          "output_type": "execute_result",
          "data": {
            "text/plain": [
              "crim       0\n",
              "zn         0\n",
              "indus      0\n",
              "chas       0\n",
              "nox        0\n",
              "rm         0\n",
              "age        0\n",
              "dis        0\n",
              "rad        0\n",
              "tax        0\n",
              "ptratio    0\n",
              "b          0\n",
              "lstat      0\n",
              "MEDV       0\n",
              "dtype: int64"
            ]
          },
          "metadata": {},
          "execution_count": 8
        }
      ]
    },
    {
      "cell_type": "code",
      "source": [
        "for i in df.columns:\n",
        "    mean_value = df[i].mean()\n",
        "    df[i].fillna(mean_value, inplace=True)"
      ],
      "metadata": {
        "id": "bXCDhhilNkzQ"
      },
      "execution_count": null,
      "outputs": []
    },
    {
      "cell_type": "markdown",
      "source": [
        "Splitting Dataset"
      ],
      "metadata": {
        "id": "CRjd2dAZM0RO"
      }
    },
    {
      "cell_type": "code",
      "source": [
        "from sklearn.model_selection import train_test_split"
      ],
      "metadata": {
        "id": "hwj2KOdFOGx9"
      },
      "execution_count": null,
      "outputs": []
    },
    {
      "cell_type": "code",
      "source": [
        "X = df.loc[:, df.columns != 'MEDV']\n",
        "Y = df.loc[:, df.columns == 'MEDV']\n",
        "X_train, X_test, Y_train, Y_test = train_test_split(X, Y, test_size=0.4, random_state=123)"
      ],
      "metadata": {
        "id": "5CjjcAbHMrx0"
      },
      "execution_count": null,
      "outputs": []
    },
    {
      "cell_type": "markdown",
      "source": [
        "Data Transformation"
      ],
      "metadata": {
        "id": "OlBIVxz5ORc4"
      }
    },
    {
      "cell_type": "code",
      "source": [
        "from sklearn.preprocessing import MinMaxScaler"
      ],
      "metadata": {
        "id": "9EFqkEq0OVpG"
      },
      "execution_count": null,
      "outputs": []
    },
    {
      "cell_type": "code",
      "source": [
        "mms = MinMaxScaler()\n",
        "mms.fit(X_train)\n",
        "X_train = mms.transform(X_train)\n",
        "X_test = mms.transform(X_test)"
      ],
      "metadata": {
        "id": "0BOatJvuOTOI"
      },
      "execution_count": null,
      "outputs": []
    },
    {
      "cell_type": "markdown",
      "source": [
        "Model Building"
      ],
      "metadata": {
        "id": "L_WUP1xpOYMj"
      }
    },
    {
      "cell_type": "code",
      "source": [
        "from tensorflow.keras.models import Sequential\n",
        "from tensorflow.keras.layers import Dense"
      ],
      "metadata": {
        "id": "hpuITDKKOZ-t"
      },
      "execution_count": null,
      "outputs": []
    },
    {
      "cell_type": "code",
      "source": [
        "model = Sequential()"
      ],
      "metadata": {
        "id": "L-tTqFLuOhHA"
      },
      "execution_count": null,
      "outputs": []
    },
    {
      "cell_type": "code",
      "source": [
        "model.add(Dense(128, input_shape=(13, ), activation='relu', name='dense_1'))\n",
        "model.add(Dense(64, activation='relu', name='dense_2'))\n",
        "model.add(Dense(1, activation='linear', name='dense_output'))"
      ],
      "metadata": {
        "id": "piJeYUg1Oi2w"
      },
      "execution_count": null,
      "outputs": []
    },
    {
      "cell_type": "code",
      "source": [
        "model.compile(optimizer='adam', loss='mse', metrics=['mae'])\n",
        "model.summary()"
      ],
      "metadata": {
        "colab": {
          "base_uri": "https://localhost:8080/"
        },
        "id": "CB2ChIFiOkeZ",
        "outputId": "15c89224-44a2-44cf-de82-a4f462a26b34"
      },
      "execution_count": null,
      "outputs": [
        {
          "output_type": "stream",
          "name": "stdout",
          "text": [
            "Model: \"sequential\"\n",
            "_________________________________________________________________\n",
            " Layer (type)                Output Shape              Param #   \n",
            "=================================================================\n",
            " dense_1 (Dense)             (None, 128)               1792      \n",
            "                                                                 \n",
            " dense_2 (Dense)             (None, 64)                8256      \n",
            "                                                                 \n",
            " dense_output (Dense)        (None, 1)                 65        \n",
            "                                                                 \n",
            "=================================================================\n",
            "Total params: 10113 (39.50 KB)\n",
            "Trainable params: 10113 (39.50 KB)\n",
            "Non-trainable params: 0 (0.00 Byte)\n",
            "_________________________________________________________________\n"
          ]
        }
      ]
    },
    {
      "cell_type": "code",
      "source": [
        "history = model.fit(X_train, Y_train, epochs=100, validation_split=0.05, verbose = 1)"
      ],
      "metadata": {
        "colab": {
          "base_uri": "https://localhost:8080/"
        },
        "id": "2_hNfVdpOrGp",
        "outputId": "973f8e7a-6b44-48df-d848-7457f1b3ad94"
      },
      "execution_count": null,
      "outputs": [
        {
          "output_type": "stream",
          "name": "stdout",
          "text": [
            "Epoch 1/100\n",
            "9/9 [==============================] - 3s 66ms/step - loss: 550.3097 - mae: 21.6063 - val_loss: 619.3676 - val_mae: 22.8007\n",
            "Epoch 2/100\n",
            "9/9 [==============================] - 0s 15ms/step - loss: 509.2187 - mae: 20.5939 - val_loss: 568.1512 - val_mae: 21.6170\n",
            "Epoch 3/100\n",
            "9/9 [==============================] - 0s 16ms/step - loss: 453.9373 - mae: 19.1725 - val_loss: 496.9821 - val_mae: 19.8401\n",
            "Epoch 4/100\n",
            "9/9 [==============================] - 0s 17ms/step - loss: 378.2978 - mae: 17.0437 - val_loss: 401.2600 - val_mae: 17.1287\n",
            "Epoch 5/100\n",
            "9/9 [==============================] - 0s 19ms/step - loss: 283.7092 - mae: 14.0141 - val_loss: 290.5880 - val_mae: 13.6122\n",
            "Epoch 6/100\n",
            "9/9 [==============================] - 0s 9ms/step - loss: 193.7621 - mae: 10.9559 - val_loss: 193.4030 - val_mae: 10.0406\n",
            "Epoch 7/100\n",
            "9/9 [==============================] - 0s 11ms/step - loss: 135.3643 - mae: 8.9471 - val_loss: 145.5513 - val_mae: 8.6669\n",
            "Epoch 8/100\n",
            "9/9 [==============================] - 0s 24ms/step - loss: 119.0510 - mae: 8.4096 - val_loss: 130.7328 - val_mae: 8.3155\n",
            "Epoch 9/100\n",
            "9/9 [==============================] - 0s 12ms/step - loss: 109.0003 - mae: 7.9647 - val_loss: 122.2835 - val_mae: 7.9505\n",
            "Epoch 10/100\n",
            "9/9 [==============================] - 0s 15ms/step - loss: 96.3294 - mae: 7.3484 - val_loss: 116.1614 - val_mae: 7.5673\n",
            "Epoch 11/100\n",
            "9/9 [==============================] - 0s 24ms/step - loss: 85.5417 - mae: 6.7522 - val_loss: 108.5499 - val_mae: 7.1637\n",
            "Epoch 12/100\n",
            "9/9 [==============================] - 0s 17ms/step - loss: 76.9758 - mae: 6.3188 - val_loss: 99.4292 - val_mae: 6.8025\n",
            "Epoch 13/100\n",
            "9/9 [==============================] - 0s 16ms/step - loss: 69.2572 - mae: 5.9557 - val_loss: 93.0435 - val_mae: 6.5040\n",
            "Epoch 14/100\n",
            "9/9 [==============================] - 0s 13ms/step - loss: 63.7720 - mae: 5.6420 - val_loss: 87.5417 - val_mae: 6.2497\n",
            "Epoch 15/100\n",
            "9/9 [==============================] - 0s 12ms/step - loss: 59.0115 - mae: 5.3578 - val_loss: 83.9870 - val_mae: 6.1262\n",
            "Epoch 16/100\n",
            "9/9 [==============================] - 0s 12ms/step - loss: 55.5787 - mae: 5.1216 - val_loss: 81.3678 - val_mae: 6.0280\n",
            "Epoch 17/100\n",
            "9/9 [==============================] - 0s 11ms/step - loss: 52.8370 - mae: 4.9975 - val_loss: 77.3772 - val_mae: 6.1063\n",
            "Epoch 18/100\n",
            "9/9 [==============================] - 0s 22ms/step - loss: 50.8033 - mae: 4.9194 - val_loss: 75.0609 - val_mae: 6.0376\n",
            "Epoch 19/100\n",
            "9/9 [==============================] - 0s 10ms/step - loss: 48.7468 - mae: 4.7779 - val_loss: 73.6077 - val_mae: 5.8976\n",
            "Epoch 20/100\n",
            "9/9 [==============================] - 0s 11ms/step - loss: 46.9576 - mae: 4.6373 - val_loss: 71.7607 - val_mae: 5.8011\n",
            "Epoch 21/100\n",
            "9/9 [==============================] - 0s 15ms/step - loss: 45.1676 - mae: 4.5928 - val_loss: 68.8206 - val_mae: 5.8063\n",
            "Epoch 22/100\n",
            "9/9 [==============================] - 0s 21ms/step - loss: 43.4846 - mae: 4.4962 - val_loss: 66.4496 - val_mae: 5.7189\n",
            "Epoch 23/100\n",
            "9/9 [==============================] - 0s 11ms/step - loss: 41.2143 - mae: 4.3213 - val_loss: 66.4729 - val_mae: 5.4503\n",
            "Epoch 24/100\n",
            "9/9 [==============================] - 0s 11ms/step - loss: 39.4835 - mae: 4.1980 - val_loss: 64.1006 - val_mae: 5.3754\n",
            "Epoch 25/100\n",
            "9/9 [==============================] - 0s 12ms/step - loss: 37.6210 - mae: 4.1418 - val_loss: 60.5856 - val_mae: 5.3763\n",
            "Epoch 26/100\n",
            "9/9 [==============================] - 0s 11ms/step - loss: 35.5924 - mae: 4.0689 - val_loss: 58.5573 - val_mae: 5.2757\n",
            "Epoch 27/100\n",
            "9/9 [==============================] - 0s 10ms/step - loss: 34.0613 - mae: 3.9756 - val_loss: 57.4073 - val_mae: 5.1324\n",
            "Epoch 28/100\n",
            "9/9 [==============================] - 0s 11ms/step - loss: 32.1842 - mae: 3.7615 - val_loss: 56.3057 - val_mae: 4.9902\n",
            "Epoch 29/100\n",
            "9/9 [==============================] - 0s 8ms/step - loss: 30.7716 - mae: 3.7697 - val_loss: 52.9151 - val_mae: 4.9958\n",
            "Epoch 30/100\n",
            "9/9 [==============================] - 0s 8ms/step - loss: 29.1191 - mae: 3.6670 - val_loss: 52.6365 - val_mae: 4.9250\n",
            "Epoch 31/100\n",
            "9/9 [==============================] - 0s 11ms/step - loss: 27.6587 - mae: 3.4740 - val_loss: 51.2132 - val_mae: 4.9017\n",
            "Epoch 32/100\n",
            "9/9 [==============================] - 0s 10ms/step - loss: 26.5797 - mae: 3.5230 - val_loss: 46.9288 - val_mae: 4.9217\n",
            "Epoch 33/100\n",
            "9/9 [==============================] - 0s 8ms/step - loss: 25.1386 - mae: 3.3993 - val_loss: 49.4442 - val_mae: 4.8570\n",
            "Epoch 34/100\n",
            "9/9 [==============================] - 0s 17ms/step - loss: 24.1300 - mae: 3.2893 - val_loss: 45.2361 - val_mae: 4.8480\n",
            "Epoch 35/100\n",
            "9/9 [==============================] - 0s 15ms/step - loss: 23.2755 - mae: 3.3329 - val_loss: 45.8245 - val_mae: 4.7974\n",
            "Epoch 36/100\n",
            "9/9 [==============================] - 0s 26ms/step - loss: 22.3441 - mae: 3.1307 - val_loss: 45.7827 - val_mae: 4.7732\n",
            "Epoch 37/100\n",
            "9/9 [==============================] - 0s 19ms/step - loss: 21.5983 - mae: 3.1624 - val_loss: 43.1240 - val_mae: 4.7595\n",
            "Epoch 38/100\n",
            "9/9 [==============================] - 0s 13ms/step - loss: 20.8744 - mae: 3.0945 - val_loss: 45.1908 - val_mae: 4.6910\n",
            "Epoch 39/100\n",
            "9/9 [==============================] - 0s 9ms/step - loss: 20.4728 - mae: 3.0176 - val_loss: 42.4706 - val_mae: 4.6721\n",
            "Epoch 40/100\n",
            "9/9 [==============================] - 0s 11ms/step - loss: 19.7774 - mae: 2.9960 - val_loss: 43.0746 - val_mae: 4.6284\n",
            "Epoch 41/100\n",
            "9/9 [==============================] - 0s 12ms/step - loss: 19.5758 - mae: 2.9346 - val_loss: 41.4470 - val_mae: 4.6049\n",
            "Epoch 42/100\n",
            "9/9 [==============================] - 0s 12ms/step - loss: 19.1283 - mae: 2.9865 - val_loss: 40.9094 - val_mae: 4.5491\n",
            "Epoch 43/100\n",
            "9/9 [==============================] - 0s 18ms/step - loss: 18.7029 - mae: 2.8780 - val_loss: 41.7980 - val_mae: 4.4973\n",
            "Epoch 44/100\n",
            "9/9 [==============================] - 0s 18ms/step - loss: 18.3368 - mae: 2.8689 - val_loss: 40.4122 - val_mae: 4.4507\n",
            "Epoch 45/100\n",
            "9/9 [==============================] - 0s 33ms/step - loss: 18.1377 - mae: 2.8463 - val_loss: 40.0333 - val_mae: 4.4164\n",
            "Epoch 46/100\n",
            "9/9 [==============================] - 0s 14ms/step - loss: 17.9472 - mae: 2.8572 - val_loss: 39.3655 - val_mae: 4.3791\n",
            "Epoch 47/100\n",
            "9/9 [==============================] - 0s 11ms/step - loss: 17.6724 - mae: 2.8094 - val_loss: 41.7195 - val_mae: 4.4072\n",
            "Epoch 48/100\n",
            "9/9 [==============================] - 0s 13ms/step - loss: 17.7217 - mae: 2.8287 - val_loss: 38.3630 - val_mae: 4.3183\n",
            "Epoch 49/100\n",
            "9/9 [==============================] - 0s 11ms/step - loss: 17.2250 - mae: 2.7741 - val_loss: 40.0496 - val_mae: 4.3418\n",
            "Epoch 50/100\n",
            "9/9 [==============================] - 0s 13ms/step - loss: 17.1552 - mae: 2.7662 - val_loss: 39.3550 - val_mae: 4.2988\n",
            "Epoch 51/100\n",
            "9/9 [==============================] - 0s 20ms/step - loss: 16.9515 - mae: 2.7559 - val_loss: 39.1882 - val_mae: 4.2769\n",
            "Epoch 52/100\n",
            "9/9 [==============================] - 0s 11ms/step - loss: 16.7896 - mae: 2.7546 - val_loss: 38.0528 - val_mae: 4.2136\n",
            "Epoch 53/100\n",
            "9/9 [==============================] - 0s 11ms/step - loss: 16.7974 - mae: 2.7112 - val_loss: 37.3334 - val_mae: 4.1728\n",
            "Epoch 54/100\n",
            "9/9 [==============================] - 0s 32ms/step - loss: 17.0004 - mae: 2.8260 - val_loss: 37.3009 - val_mae: 4.1504\n",
            "Epoch 55/100\n",
            "9/9 [==============================] - 0s 13ms/step - loss: 17.0032 - mae: 2.7397 - val_loss: 37.5688 - val_mae: 4.1526\n",
            "Epoch 56/100\n",
            "9/9 [==============================] - 0s 13ms/step - loss: 16.7572 - mae: 2.8377 - val_loss: 35.7229 - val_mae: 4.0615\n",
            "Epoch 57/100\n",
            "9/9 [==============================] - 0s 12ms/step - loss: 16.1094 - mae: 2.6770 - val_loss: 37.5107 - val_mae: 4.1202\n",
            "Epoch 58/100\n",
            "9/9 [==============================] - 0s 16ms/step - loss: 16.0512 - mae: 2.6875 - val_loss: 34.9254 - val_mae: 4.0066\n",
            "Epoch 59/100\n",
            "9/9 [==============================] - 0s 16ms/step - loss: 15.8367 - mae: 2.6896 - val_loss: 36.5780 - val_mae: 4.0723\n",
            "Epoch 60/100\n",
            "9/9 [==============================] - 0s 16ms/step - loss: 15.9350 - mae: 2.6798 - val_loss: 35.6914 - val_mae: 4.0206\n",
            "Epoch 61/100\n",
            "9/9 [==============================] - 0s 24ms/step - loss: 15.7592 - mae: 2.6665 - val_loss: 35.7549 - val_mae: 4.0090\n",
            "Epoch 62/100\n",
            "9/9 [==============================] - 0s 13ms/step - loss: 15.6847 - mae: 2.6247 - val_loss: 35.6160 - val_mae: 3.9962\n",
            "Epoch 63/100\n",
            "9/9 [==============================] - 0s 21ms/step - loss: 15.6108 - mae: 2.6757 - val_loss: 35.0008 - val_mae: 3.9489\n",
            "Epoch 64/100\n",
            "9/9 [==============================] - 0s 29ms/step - loss: 15.3130 - mae: 2.6182 - val_loss: 34.6973 - val_mae: 3.9322\n",
            "Epoch 65/100\n",
            "9/9 [==============================] - 0s 27ms/step - loss: 15.3357 - mae: 2.6203 - val_loss: 34.0429 - val_mae: 3.8966\n",
            "Epoch 66/100\n",
            "9/9 [==============================] - 0s 34ms/step - loss: 15.3382 - mae: 2.6598 - val_loss: 35.3815 - val_mae: 3.9460\n",
            "Epoch 67/100\n",
            "9/9 [==============================] - 0s 25ms/step - loss: 15.2668 - mae: 2.6532 - val_loss: 33.9559 - val_mae: 3.8664\n",
            "Epoch 68/100\n",
            "9/9 [==============================] - 0s 26ms/step - loss: 15.0571 - mae: 2.5889 - val_loss: 35.2945 - val_mae: 3.9052\n",
            "Epoch 69/100\n",
            "9/9 [==============================] - 0s 20ms/step - loss: 15.3088 - mae: 2.6591 - val_loss: 32.2896 - val_mae: 3.7699\n",
            "Epoch 70/100\n",
            "9/9 [==============================] - 0s 20ms/step - loss: 15.1682 - mae: 2.5875 - val_loss: 34.3687 - val_mae: 3.8486\n",
            "Epoch 71/100\n",
            "9/9 [==============================] - 0s 22ms/step - loss: 14.7829 - mae: 2.6084 - val_loss: 33.0068 - val_mae: 3.7626\n",
            "Epoch 72/100\n",
            "9/9 [==============================] - 0s 44ms/step - loss: 14.6526 - mae: 2.5703 - val_loss: 33.6175 - val_mae: 3.7854\n",
            "Epoch 73/100\n",
            "9/9 [==============================] - 0s 24ms/step - loss: 14.5850 - mae: 2.5797 - val_loss: 32.7476 - val_mae: 3.7385\n",
            "Epoch 74/100\n",
            "9/9 [==============================] - 0s 24ms/step - loss: 14.6925 - mae: 2.5347 - val_loss: 33.7249 - val_mae: 3.7742\n",
            "Epoch 75/100\n",
            "9/9 [==============================] - 0s 26ms/step - loss: 14.9492 - mae: 2.6560 - val_loss: 32.1855 - val_mae: 3.6885\n",
            "Epoch 76/100\n",
            "9/9 [==============================] - 0s 13ms/step - loss: 14.3788 - mae: 2.5392 - val_loss: 33.4690 - val_mae: 3.7560\n",
            "Epoch 77/100\n",
            "9/9 [==============================] - 0s 23ms/step - loss: 14.1702 - mae: 2.5298 - val_loss: 32.0382 - val_mae: 3.6642\n",
            "Epoch 78/100\n",
            "9/9 [==============================] - 0s 31ms/step - loss: 14.2470 - mae: 2.5682 - val_loss: 32.5863 - val_mae: 3.6770\n",
            "Epoch 79/100\n",
            "9/9 [==============================] - 0s 35ms/step - loss: 14.1136 - mae: 2.5057 - val_loss: 32.1554 - val_mae: 3.6477\n",
            "Epoch 80/100\n",
            "9/9 [==============================] - 0s 51ms/step - loss: 13.9907 - mae: 2.5158 - val_loss: 30.9134 - val_mae: 3.5714\n",
            "Epoch 81/100\n",
            "9/9 [==============================] - 0s 46ms/step - loss: 13.9285 - mae: 2.5241 - val_loss: 31.4228 - val_mae: 3.5795\n",
            "Epoch 82/100\n",
            "9/9 [==============================] - 0s 34ms/step - loss: 13.9320 - mae: 2.5156 - val_loss: 31.0947 - val_mae: 3.5502\n",
            "Epoch 83/100\n",
            "9/9 [==============================] - 0s 34ms/step - loss: 13.7664 - mae: 2.4718 - val_loss: 32.3652 - val_mae: 3.6273\n",
            "Epoch 84/100\n",
            "9/9 [==============================] - 0s 38ms/step - loss: 13.6155 - mae: 2.4999 - val_loss: 29.4714 - val_mae: 3.4402\n",
            "Epoch 85/100\n",
            "9/9 [==============================] - 0s 13ms/step - loss: 13.6683 - mae: 2.5029 - val_loss: 30.5731 - val_mae: 3.4959\n",
            "Epoch 86/100\n",
            "9/9 [==============================] - 0s 14ms/step - loss: 13.6130 - mae: 2.4824 - val_loss: 29.6226 - val_mae: 3.4305\n",
            "Epoch 87/100\n",
            "9/9 [==============================] - 0s 12ms/step - loss: 13.5025 - mae: 2.4744 - val_loss: 30.9590 - val_mae: 3.5279\n",
            "Epoch 88/100\n",
            "9/9 [==============================] - 0s 37ms/step - loss: 13.4050 - mae: 2.4755 - val_loss: 29.9233 - val_mae: 3.4355\n",
            "Epoch 89/100\n",
            "9/9 [==============================] - 0s 12ms/step - loss: 13.3596 - mae: 2.4285 - val_loss: 30.3922 - val_mae: 3.4442\n",
            "Epoch 90/100\n",
            "9/9 [==============================] - 0s 11ms/step - loss: 13.3498 - mae: 2.4887 - val_loss: 29.3542 - val_mae: 3.3695\n",
            "Epoch 91/100\n",
            "9/9 [==============================] - 0s 14ms/step - loss: 13.1777 - mae: 2.4369 - val_loss: 29.8250 - val_mae: 3.4064\n",
            "Epoch 92/100\n",
            "9/9 [==============================] - 0s 15ms/step - loss: 13.2936 - mae: 2.4752 - val_loss: 28.4120 - val_mae: 3.2960\n",
            "Epoch 93/100\n",
            "9/9 [==============================] - 0s 12ms/step - loss: 13.2972 - mae: 2.4250 - val_loss: 29.4370 - val_mae: 3.3616\n",
            "Epoch 94/100\n",
            "9/9 [==============================] - 0s 25ms/step - loss: 13.8375 - mae: 2.5945 - val_loss: 29.7229 - val_mae: 3.3925\n",
            "Epoch 95/100\n",
            "9/9 [==============================] - 0s 17ms/step - loss: 13.3762 - mae: 2.4464 - val_loss: 28.2499 - val_mae: 3.2649\n",
            "Epoch 96/100\n",
            "9/9 [==============================] - 0s 11ms/step - loss: 13.0981 - mae: 2.5123 - val_loss: 28.4058 - val_mae: 3.2739\n",
            "Epoch 97/100\n",
            "9/9 [==============================] - 0s 14ms/step - loss: 12.8697 - mae: 2.3848 - val_loss: 28.6531 - val_mae: 3.2839\n",
            "Epoch 98/100\n",
            "9/9 [==============================] - 0s 16ms/step - loss: 12.8009 - mae: 2.4307 - val_loss: 27.4154 - val_mae: 3.1945\n",
            "Epoch 99/100\n",
            "9/9 [==============================] - 0s 11ms/step - loss: 12.9587 - mae: 2.3967 - val_loss: 27.9997 - val_mae: 3.2157\n",
            "Epoch 100/100\n",
            "9/9 [==============================] - 0s 12ms/step - loss: 12.6899 - mae: 2.4220 - val_loss: 26.9766 - val_mae: 3.1596\n"
          ]
        }
      ]
    },
    {
      "cell_type": "markdown",
      "source": [
        "Testing & Evaluation"
      ],
      "metadata": {
        "id": "5GP1zrKEOvJP"
      }
    },
    {
      "cell_type": "code",
      "source": [
        "from sklearn.metrics import r2_score"
      ],
      "metadata": {
        "id": "iMCHVhNqRId_"
      },
      "execution_count": null,
      "outputs": []
    },
    {
      "cell_type": "code",
      "source": [
        "mse, mae = model.evaluate(X_test, Y_test)\n",
        "\n",
        "predicted_vals = model.predict(X_test)\n",
        "r_squared = r2_score(Y_test, predicted_vals)"
      ],
      "metadata": {
        "colab": {
          "base_uri": "https://localhost:8080/"
        },
        "id": "UAFg1pDvOx7j",
        "outputId": "835526a3-177f-4674-954f-40ec97c00abd"
      },
      "execution_count": null,
      "outputs": [
        {
          "output_type": "stream",
          "name": "stdout",
          "text": [
            "7/7 [==============================] - 0s 4ms/step - loss: 20.8396 - mae: 3.0602\n",
            "7/7 [==============================] - 0s 6ms/step\n"
          ]
        }
      ]
    },
    {
      "cell_type": "code",
      "source": [
        "print('Mean squared error on test data: ', mse)\n",
        "print('Mean absolute error on test data: ', mae)\n",
        "print('R squared error on test data: ', r_squared)"
      ],
      "metadata": {
        "colab": {
          "base_uri": "https://localhost:8080/"
        },
        "id": "ZkAEUitnOzoC",
        "outputId": "b6d4d3d6-2c37-426b-a78a-dd9c5fcc734a"
      },
      "execution_count": null,
      "outputs": [
        {
          "output_type": "stream",
          "name": "stdout",
          "text": [
            "Mean squared error on test data:  20.839555740356445\n",
            "Mean absolute error on test data:  3.060154438018799\n",
            "R squared error on test data:  0.7550814808392564\n"
          ]
        }
      ]
    },
    {
      "cell_type": "markdown",
      "source": [
        "# Classify Fashion Clothing"
      ],
      "metadata": {
        "id": "ZsoAaSXDwNTX"
      }
    },
    {
      "cell_type": "markdown",
      "source": [
        "Check for Tensorflow installation"
      ],
      "metadata": {
        "id": "b-SAR_CZw3IS"
      }
    },
    {
      "cell_type": "code",
      "execution_count": null,
      "metadata": {
        "colab": {
          "base_uri": "https://localhost:8080/"
        },
        "outputId": "b68ce1c5-057d-4ad4-8f1b-393a247d2dd2",
        "id": "1BEOe2WLw3IS"
      },
      "outputs": [
        {
          "output_type": "stream",
          "name": "stdout",
          "text": [
            "TensorFlow is installed. Version: 2.15.0\n"
          ]
        }
      ],
      "source": [
        "try:\n",
        "    import tensorflow as tf\n",
        "    print(\"TensorFlow is installed. Version:\", tf.__version__)\n",
        "except ImportError:\n",
        "    print(\"TensorFlow is not installed. Installing Now.....\")\n",
        "    !pip install tensorflow"
      ]
    },
    {
      "cell_type": "markdown",
      "source": [
        "Import Libraries and Load Fashion MNIST Dataset"
      ],
      "metadata": {
        "id": "mIwMOYv_yIPQ"
      }
    },
    {
      "cell_type": "code",
      "source": [
        "from tensorflow.keras.datasets import fashion_mnist\n",
        "import numpy as np"
      ],
      "metadata": {
        "id": "Alo5pHBKxDtt"
      },
      "execution_count": null,
      "outputs": []
    },
    {
      "cell_type": "code",
      "source": [
        "(train_x, train_y), (test_x, test_y) = fashion_mnist.load_data()"
      ],
      "metadata": {
        "id": "qtziwN6rxEQQ",
        "colab": {
          "base_uri": "https://localhost:8080/"
        },
        "outputId": "8379b203-dcc7-4555-b3da-72eacbf2a127"
      },
      "execution_count": null,
      "outputs": [
        {
          "output_type": "stream",
          "name": "stdout",
          "text": [
            "Downloading data from https://storage.googleapis.com/tensorflow/tf-keras-datasets/train-labels-idx1-ubyte.gz\n",
            "29515/29515 [==============================] - 0s 0us/step\n",
            "Downloading data from https://storage.googleapis.com/tensorflow/tf-keras-datasets/train-images-idx3-ubyte.gz\n",
            "26421880/26421880 [==============================] - 2s 0us/step\n",
            "Downloading data from https://storage.googleapis.com/tensorflow/tf-keras-datasets/t10k-labels-idx1-ubyte.gz\n",
            "5148/5148 [==============================] - 0s 0us/step\n",
            "Downloading data from https://storage.googleapis.com/tensorflow/tf-keras-datasets/t10k-images-idx3-ubyte.gz\n",
            "4422102/4422102 [==============================] - 1s 0us/step\n"
          ]
        }
      ]
    },
    {
      "cell_type": "markdown",
      "source": [
        "Define and Build the CNN Model"
      ],
      "metadata": {
        "id": "mFZ4IqTXyMub"
      }
    },
    {
      "cell_type": "code",
      "source": [
        "from tensorflow.keras.models import Sequential\n",
        "from tensorflow.keras.layers import Dense, Flatten, MaxPooling2D, Conv2D"
      ],
      "metadata": {
        "id": "bphgSGSMxKR-"
      },
      "execution_count": null,
      "outputs": []
    },
    {
      "cell_type": "code",
      "source": [
        "model = Sequential()"
      ],
      "metadata": {
        "id": "rmMBjWzexLrl"
      },
      "execution_count": null,
      "outputs": []
    },
    {
      "cell_type": "code",
      "source": [
        "model.add(Conv2D(filters=64,kernel_size=(3,3),activation='relu',input_shape=(28, 28, 1)))\n",
        "\n",
        "# Adding maxpooling layer to get max value within a matrix\n",
        "model.add(MaxPooling2D(pool_size=(2,2)))\n",
        "\n",
        "model.add(Flatten())\n",
        "model.add(Dense(128, activation = \"relu\"))\n",
        "model.add(Dense(10, activation = \"softmax\"))"
      ],
      "metadata": {
        "id": "bxBs7VgFxM3-"
      },
      "execution_count": null,
      "outputs": []
    },
    {
      "cell_type": "code",
      "source": [
        "model.summary()"
      ],
      "metadata": {
        "colab": {
          "base_uri": "https://localhost:8080/"
        },
        "id": "2Ye-V8mVxQc3",
        "outputId": "8fc694e7-7b81-4291-9d54-c3f44d61ac5c"
      },
      "execution_count": null,
      "outputs": [
        {
          "output_type": "stream",
          "name": "stdout",
          "text": [
            "Model: \"sequential_1\"\n",
            "_________________________________________________________________\n",
            " Layer (type)                Output Shape              Param #   \n",
            "=================================================================\n",
            " conv2d (Conv2D)             (None, 26, 26, 64)        640       \n",
            "                                                                 \n",
            " max_pooling2d (MaxPooling2  (None, 13, 13, 64)        0         \n",
            " D)                                                              \n",
            "                                                                 \n",
            " flatten (Flatten)           (None, 10816)             0         \n",
            "                                                                 \n",
            " dense (Dense)               (None, 128)               1384576   \n",
            "                                                                 \n",
            " dense_1 (Dense)             (None, 10)                1290      \n",
            "                                                                 \n",
            "=================================================================\n",
            "Total params: 1386506 (5.29 MB)\n",
            "Trainable params: 1386506 (5.29 MB)\n",
            "Non-trainable params: 0 (0.00 Byte)\n",
            "_________________________________________________________________\n"
          ]
        }
      ]
    },
    {
      "cell_type": "markdown",
      "source": [
        "Compile and Train the Model"
      ],
      "metadata": {
        "id": "qJsyJ53IyRoz"
      }
    },
    {
      "cell_type": "code",
      "source": [
        "model.compile(optimizer = 'adam', loss = 'sparse_categorical_crossentropy', metrics = ['accuracy'])"
      ],
      "metadata": {
        "id": "th-LGBGFxR0b"
      },
      "execution_count": null,
      "outputs": []
    },
    {
      "cell_type": "code",
      "source": [
        "model.fit(train_x.astype(np.float32), train_y.astype(np.float32), epochs = 5, validation_split = 0.2)"
      ],
      "metadata": {
        "colab": {
          "base_uri": "https://localhost:8080/"
        },
        "id": "9TNz0JjuzMxK",
        "outputId": "75881bf6-5d7e-4b11-8bac-6d4e9b17b778"
      },
      "execution_count": null,
      "outputs": [
        {
          "output_type": "stream",
          "name": "stdout",
          "text": [
            "Epoch 1/5\n",
            "1500/1500 [==============================] - 61s 40ms/step - loss: 1.4160 - accuracy: 0.8441 - val_loss: 0.3406 - val_accuracy: 0.8809\n",
            "Epoch 2/5\n",
            "1500/1500 [==============================] - 61s 41ms/step - loss: 0.2889 - accuracy: 0.8971 - val_loss: 0.3402 - val_accuracy: 0.8832\n",
            "Epoch 3/5\n",
            "1500/1500 [==============================] - 61s 41ms/step - loss: 0.2475 - accuracy: 0.9102 - val_loss: 0.3228 - val_accuracy: 0.8888\n",
            "Epoch 4/5\n",
            "1500/1500 [==============================] - 58s 38ms/step - loss: 0.2307 - accuracy: 0.9150 - val_loss: 0.3289 - val_accuracy: 0.8892\n",
            "Epoch 5/5\n",
            "1500/1500 [==============================] - 59s 39ms/step - loss: 0.2075 - accuracy: 0.9225 - val_loss: 0.3490 - val_accuracy: 0.8843\n"
          ]
        },
        {
          "output_type": "execute_result",
          "data": {
            "text/plain": [
              "<keras.src.callbacks.History at 0x7d3b00a91ba0>"
            ]
          },
          "metadata": {},
          "execution_count": 36
        }
      ]
    },
    {
      "cell_type": "markdown",
      "source": [
        "Evaluate the Model"
      ],
      "metadata": {
        "id": "JEUtowEpyUBP"
      }
    },
    {
      "cell_type": "code",
      "source": [
        "loss, acc = model.evaluate(test_x, test_y)\n",
        "print(\"Loss Score : {} \\nAccuracy : {}\".format(loss, acc))"
      ],
      "metadata": {
        "colab": {
          "base_uri": "https://localhost:8080/"
        },
        "id": "V7RZTj9uxY70",
        "outputId": "51c6c38c-f3fe-4ac1-8593-ac2e66b5e583"
      },
      "execution_count": null,
      "outputs": [
        {
          "output_type": "stream",
          "name": "stdout",
          "text": [
            "313/313 [==============================] - 3s 8ms/step - loss: 0.3704 - accuracy: 0.8870\n",
            "Loss Score : 0.37043628096580505 \n",
            "Accuracy : 0.8870000243186951\n"
          ]
        }
      ]
    },
    {
      "cell_type": "markdown",
      "source": [
        "Make Predictions and Visualize Results"
      ],
      "metadata": {
        "id": "ZN95Ch9cyXAK"
      }
    },
    {
      "cell_type": "code",
      "source": [
        "labels = ['t_shirt', 'trouser', 'pullover', 'dress', 'coat', 'sandal', 'shirt', 'sneaker',   'bag', 'ankle_boots']\n",
        "print(test_x)"
      ],
      "metadata": {
        "id": "Napo6LJFxa7L",
        "colab": {
          "base_uri": "https://localhost:8080/"
        },
        "outputId": "81a75ea6-a675-41c7-e094-956e9ea5cdc0"
      },
      "execution_count": null,
      "outputs": [
        {
          "output_type": "stream",
          "name": "stdout",
          "text": [
            "[[[0 0 0 ... 0 0 0]\n",
            "  [0 0 0 ... 0 0 0]\n",
            "  [0 0 0 ... 0 0 0]\n",
            "  ...\n",
            "  [0 0 0 ... 0 0 0]\n",
            "  [0 0 0 ... 0 0 0]\n",
            "  [0 0 0 ... 0 0 0]]\n",
            "\n",
            " [[0 0 0 ... 0 0 0]\n",
            "  [0 0 0 ... 0 0 0]\n",
            "  [0 0 0 ... 0 0 0]\n",
            "  ...\n",
            "  [0 0 0 ... 0 0 0]\n",
            "  [0 0 0 ... 0 0 0]\n",
            "  [0 0 0 ... 0 0 0]]\n",
            "\n",
            " [[0 0 0 ... 0 0 0]\n",
            "  [0 0 0 ... 0 0 0]\n",
            "  [0 0 0 ... 0 0 0]\n",
            "  ...\n",
            "  [0 0 0 ... 0 0 0]\n",
            "  [0 0 0 ... 0 0 0]\n",
            "  [0 0 0 ... 0 0 0]]\n",
            "\n",
            " ...\n",
            "\n",
            " [[0 0 0 ... 0 0 0]\n",
            "  [0 0 0 ... 0 0 0]\n",
            "  [0 0 0 ... 0 0 0]\n",
            "  ...\n",
            "  [0 0 0 ... 0 0 0]\n",
            "  [0 0 0 ... 0 0 0]\n",
            "  [0 0 0 ... 0 0 0]]\n",
            "\n",
            " [[0 0 0 ... 0 0 0]\n",
            "  [0 0 0 ... 0 0 0]\n",
            "  [0 0 0 ... 0 0 0]\n",
            "  ...\n",
            "  [0 0 0 ... 0 0 0]\n",
            "  [0 0 0 ... 0 0 0]\n",
            "  [0 0 0 ... 0 0 0]]\n",
            "\n",
            " [[0 0 0 ... 0 0 0]\n",
            "  [0 0 0 ... 0 0 0]\n",
            "  [0 0 0 ... 0 0 0]\n",
            "  ...\n",
            "  [0 0 0 ... 0 0 0]\n",
            "  [0 0 0 ... 0 0 0]\n",
            "  [0 0 0 ... 0 0 0]]]\n"
          ]
        }
      ]
    },
    {
      "cell_type": "code",
      "source": [
        "inputs = test_x[:1]\n",
        "predictions = model.predict(inputs)\n",
        "label = labels[np.argmax(predictions)]"
      ],
      "metadata": {
        "colab": {
          "base_uri": "https://localhost:8080/"
        },
        "id": "NEXQSpG1xdqc",
        "outputId": "ddfe795a-5aef-4eed-f6cd-e60e3e1332ca"
      },
      "execution_count": null,
      "outputs": [
        {
          "output_type": "stream",
          "name": "stdout",
          "text": [
            "1/1 [==============================] - 0s 68ms/step\n"
          ]
        }
      ]
    },
    {
      "cell_type": "code",
      "source": [
        "import matplotlib.pyplot as plt"
      ],
      "metadata": {
        "id": "KC4QL7p7yagw"
      },
      "execution_count": null,
      "outputs": []
    },
    {
      "cell_type": "code",
      "source": [
        "plt.title(label)\n",
        "plt.imshow(test_x[:1][0])\n",
        "plt.show()"
      ],
      "metadata": {
        "colab": {
          "base_uri": "https://localhost:8080/",
          "height": 452
        },
        "id": "zWyfKvptxgZN",
        "outputId": "77e07f5d-8e2d-4279-cbc9-82eb9e630e43"
      },
      "execution_count": null,
      "outputs": [
        {
          "output_type": "display_data",
          "data": {
            "text/plain": [
              "<Figure size 640x480 with 1 Axes>"
            ],
            "image/png": "[encoded data removed]"
          },
          "metadata": {}
        }
      ]
    },
    {
      "cell_type": "markdown",
      "source": [
        "# Time Series Analysis"
      ],
      "metadata": {
        "id": "B2S2MPucNpDd"
      }
    },
    {
      "cell_type": "markdown",
      "source": [
        "Check for Tensorflow installation"
      ],
      "metadata": {
        "id": "2rNQ8XQoN0UU"
      }
    },
    {
      "cell_type": "code",
      "execution_count": null,
      "metadata": {
        "colab": {
          "base_uri": "https://localhost:8080/"
        },
        "outputId": "68f9ee1c-9439-4a70-a670-bb9d6fc26a68",
        "id": "gyyWZbAHN0UV"
      },
      "outputs": [
        {
          "output_type": "stream",
          "name": "stdout",
          "text": [
            "TensorFlow is installed. Version: 2.15.0\n"
          ]
        }
      ],
      "source": [
        "try:\n",
        "    import tensorflow as tf\n",
        "    print(\"TensorFlow is installed. Version:\", tf.__version__)\n",
        "except ImportError:\n",
        "    print(\"TensorFlow is not installed. Installing Now.....\")\n",
        "    !pip install tensorflow"
      ]
    },
    {
      "cell_type": "markdown",
      "source": [
        "Import Libraries"
      ],
      "metadata": {
        "id": "SOvAEXW3N1Lp"
      }
    },
    {
      "cell_type": "code",
      "source": [
        "import pandas as pd\n",
        "import numpy as np\n",
        "from sklearn.preprocessing import MinMaxScaler\n",
        "from keras.models import Sequential\n",
        "from keras.layers import Dense, LSTM\n",
        "from sklearn.metrics import mean_absolute_error, mean_squared_error\n",
        "import tensorflow as tf\n",
        "tf.config.run_functions_eagerly(True)"
      ],
      "metadata": {
        "id": "fNT4jcNsNtYJ"
      },
      "execution_count": null,
      "outputs": []
    },
    {
      "cell_type": "markdown",
      "source": [
        "Data Preparation"
      ],
      "metadata": {
        "id": "FuqRz7tzOgEX"
      }
    },
    {
      "cell_type": "code",
      "source": [
        "data = pd.read_csv('/content/drive/MyDrive/Colab Notebooks/goolge.csv')\n",
        "scaler = MinMaxScaler(feature_range=(0, 1))\n",
        "scaled_data = scaler.fit_transform(data['Close'].values.reshape(-1, 1))"
      ],
      "metadata": {
        "id": "Nt4NwJjUOduT"
      },
      "execution_count": null,
      "outputs": []
    },
    {
      "cell_type": "markdown",
      "source": [
        "Splitting Dataset"
      ],
      "metadata": {
        "id": "DyKzigrkOoeA"
      }
    },
    {
      "cell_type": "code",
      "source": [
        "train_data = scaled_data[:int(len(scaled_data) * 0.8)]\n",
        "test_data = scaled_data[int(len(scaled_data) * 0.8):]"
      ],
      "metadata": {
        "id": "gxyHTU58Oh9B"
      },
      "execution_count": null,
      "outputs": []
    },
    {
      "cell_type": "markdown",
      "source": [
        "Data Sequencing"
      ],
      "metadata": {
        "id": "_oH_rxmCOtWD"
      }
    },
    {
      "cell_type": "code",
      "source": [
        "def create_sequences(data, time_steps=6):\n",
        "    X = []\n",
        "    y = []\n",
        "    for i in range(len(data) - time_steps):\n",
        "        X.append(data[i:i+time_steps, 0])\n",
        "        y.append(data[i+time_steps, 0])\n",
        "    return np.array(X), np.array(y)"
      ],
      "metadata": {
        "id": "rj5vr57mOj4V"
      },
      "execution_count": null,
      "outputs": []
    },
    {
      "cell_type": "code",
      "source": [
        "X_train, y_train = create_sequences(train_data)\n",
        "X_test, y_test = create_sequences(test_data)"
      ],
      "metadata": {
        "id": "yhocF2CROwio"
      },
      "execution_count": null,
      "outputs": []
    },
    {
      "cell_type": "markdown",
      "source": [
        "Model Training"
      ],
      "metadata": {
        "id": "IQkaSsNoOz4q"
      }
    },
    {
      "cell_type": "code",
      "source": [
        "model = Sequential()\n",
        "model.add(LSTM(units=50, return_sequences=True, input_shape=(X_train.shape[1], 1)))\n",
        "model.add(LSTM(units=50))\n",
        "model.add(Dense(units=1))\n",
        "model.compile(optimizer='adam', loss='mean_squared_error')\n",
        "model.fit(X_train, y_train, epochs=50, batch_size=4)"
      ],
      "metadata": {
        "colab": {
          "base_uri": "https://localhost:8080/"
        },
        "id": "0CvfCKgmO2Kn",
        "outputId": "0d154087-42d8-4545-cdb7-0a8558183e97"
      },
      "execution_count": null,
      "outputs": [
        {
          "output_type": "stream",
          "name": "stdout",
          "text": [
            "Epoch 1/50\n"
          ]
        },
        {
          "output_type": "stream",
          "name": "stderr",
          "text": [
            "/usr/local/lib/python3.10/dist-packages/tensorflow/python/data/ops/structured_function.py:258: UserWarning: Even though the `tf.config.experimental_run_functions_eagerly` option is set, this option does not apply to tf.data functions. To force eager execution of tf.data functions, please use `tf.data.experimental.enable_debug_mode()`.\n",
            "  warnings.warn(\n"
          ]
        },
        {
          "output_type": "stream",
          "name": "stdout",
          "text": [
            "11/11 [==============================] - 2s 124ms/step - loss: 0.1606\n",
            "Epoch 2/50\n",
            "11/11 [==============================] - 1s 130ms/step - loss: 0.0429\n",
            "Epoch 3/50\n",
            "11/11 [==============================] - 1s 82ms/step - loss: 0.0291\n",
            "Epoch 4/50\n",
            "11/11 [==============================] - 1s 80ms/step - loss: 0.0301\n",
            "Epoch 5/50\n",
            "11/11 [==============================] - 1s 86ms/step - loss: 0.0253\n",
            "Epoch 6/50\n",
            "11/11 [==============================] - 1s 87ms/step - loss: 0.0233\n",
            "Epoch 7/50\n",
            "11/11 [==============================] - 1s 81ms/step - loss: 0.0238\n",
            "Epoch 8/50\n",
            "11/11 [==============================] - 1s 79ms/step - loss: 0.0229\n",
            "Epoch 9/50\n",
            "11/11 [==============================] - 1s 76ms/step - loss: 0.0232\n",
            "Epoch 10/50\n",
            "11/11 [==============================] - 1s 79ms/step - loss: 0.0237\n",
            "Epoch 11/50\n",
            "11/11 [==============================] - 1s 86ms/step - loss: 0.0232\n",
            "Epoch 12/50\n",
            "11/11 [==============================] - 1s 86ms/step - loss: 0.0246\n",
            "Epoch 13/50\n",
            "11/11 [==============================] - 1s 88ms/step - loss: 0.0220\n",
            "Epoch 14/50\n",
            "11/11 [==============================] - 1s 111ms/step - loss: 0.0237\n",
            "Epoch 15/50\n",
            "11/11 [==============================] - 1s 107ms/step - loss: 0.0223\n",
            "Epoch 16/50\n",
            "11/11 [==============================] - 1s 113ms/step - loss: 0.0223\n",
            "Epoch 17/50\n",
            "11/11 [==============================] - 1s 81ms/step - loss: 0.0222\n",
            "Epoch 18/50\n",
            "11/11 [==============================] - 1s 82ms/step - loss: 0.0218\n",
            "Epoch 19/50\n",
            "11/11 [==============================] - 1s 86ms/step - loss: 0.0220\n",
            "Epoch 20/50\n",
            "11/11 [==============================] - 1s 86ms/step - loss: 0.0211\n",
            "Epoch 21/50\n",
            "11/11 [==============================] - 1s 87ms/step - loss: 0.0217\n",
            "Epoch 22/50\n",
            "11/11 [==============================] - 1s 84ms/step - loss: 0.0210\n",
            "Epoch 23/50\n",
            "11/11 [==============================] - 1s 86ms/step - loss: 0.0206\n",
            "Epoch 24/50\n",
            "11/11 [==============================] - 1s 84ms/step - loss: 0.0205\n",
            "Epoch 25/50\n",
            "11/11 [==============================] - 1s 85ms/step - loss: 0.0235\n",
            "Epoch 26/50\n",
            "11/11 [==============================] - 1s 82ms/step - loss: 0.0208\n",
            "Epoch 27/50\n",
            "11/11 [==============================] - 1s 79ms/step - loss: 0.0192\n",
            "Epoch 28/50\n",
            "11/11 [==============================] - 1s 107ms/step - loss: 0.0191\n",
            "Epoch 29/50\n",
            "11/11 [==============================] - 1s 109ms/step - loss: 0.0198\n",
            "Epoch 30/50\n",
            "11/11 [==============================] - 1s 107ms/step - loss: 0.0194\n",
            "Epoch 31/50\n",
            "11/11 [==============================] - 1s 93ms/step - loss: 0.0190\n",
            "Epoch 32/50\n",
            "11/11 [==============================] - 1s 84ms/step - loss: 0.0185\n",
            "Epoch 33/50\n",
            "11/11 [==============================] - 1s 84ms/step - loss: 0.0180\n",
            "Epoch 34/50\n",
            "11/11 [==============================] - 1s 78ms/step - loss: 0.0174\n",
            "Epoch 35/50\n",
            "11/11 [==============================] - 1s 131ms/step - loss: 0.0170\n",
            "Epoch 36/50\n",
            "11/11 [==============================] - 1s 77ms/step - loss: 0.0173\n",
            "Epoch 37/50\n",
            "11/11 [==============================] - 1s 77ms/step - loss: 0.0159\n",
            "Epoch 38/50\n",
            "11/11 [==============================] - 1s 81ms/step - loss: 0.0157\n",
            "Epoch 39/50\n",
            "11/11 [==============================] - 1s 84ms/step - loss: 0.0171\n",
            "Epoch 40/50\n",
            "11/11 [==============================] - 1s 85ms/step - loss: 0.0156\n",
            "Epoch 41/50\n",
            "11/11 [==============================] - 1s 86ms/step - loss: 0.0148\n",
            "Epoch 42/50\n",
            "11/11 [==============================] - 1s 124ms/step - loss: 0.0139\n",
            "Epoch 43/50\n",
            "11/11 [==============================] - 1s 112ms/step - loss: 0.0133\n",
            "Epoch 44/50\n",
            "11/11 [==============================] - 2s 160ms/step - loss: 0.0150\n",
            "Epoch 45/50\n",
            "11/11 [==============================] - 1s 91ms/step - loss: 0.0181\n",
            "Epoch 46/50\n",
            "11/11 [==============================] - 1s 86ms/step - loss: 0.0125\n",
            "Epoch 47/50\n",
            "11/11 [==============================] - 1s 86ms/step - loss: 0.0131\n",
            "Epoch 48/50\n",
            "11/11 [==============================] - 1s 78ms/step - loss: 0.0138\n",
            "Epoch 49/50\n",
            "11/11 [==============================] - 1s 81ms/step - loss: 0.0115\n",
            "Epoch 50/50\n",
            "11/11 [==============================] - 1s 86ms/step - loss: 0.0115\n"
          ]
        },
        {
          "output_type": "execute_result",
          "data": {
            "text/plain": [
              "<keras.src.callbacks.History at 0x7ac47c1009a0>"
            ]
          },
          "metadata": {},
          "execution_count": 8
        }
      ]
    },
    {
      "cell_type": "markdown",
      "source": [
        "Model Evaluation"
      ],
      "metadata": {
        "id": "DMZMk5TMO67o"
      }
    },
    {
      "cell_type": "code",
      "source": [
        "y_pred = model.predict(X_test)\n",
        "y_pred = scaler.inverse_transform(y_pred)\n",
        "y_test = scaler.inverse_transform(y_test.reshape(-1, 1))"
      ],
      "metadata": {
        "colab": {
          "base_uri": "https://localhost:8080/"
        },
        "id": "Qq2FLWPMO8lg",
        "outputId": "a7dcf1f0-fd18-42a5-d6ee-5517e4c8e2c3"
      },
      "execution_count": null,
      "outputs": [
        {
          "output_type": "stream",
          "name": "stdout",
          "text": [
            "1/1 [==============================] - 0s 56ms/step\n"
          ]
        }
      ]
    },
    {
      "cell_type": "code",
      "source": [
        "mae = mean_absolute_error(y_test, y_pred)\n",
        "mse = mean_squared_error(y_test, y_pred)\n",
        "rmse = np.sqrt(mse)\n",
        "print('MAE: ', mae)\n",
        "print('MSE: ', mse)\n",
        "print('RMSE: ', rmse)"
      ],
      "metadata": {
        "colab": {
          "base_uri": "https://localhost:8080/"
        },
        "id": "oWcQsKW4O-5s",
        "outputId": "ec35c216-b777-4436-dc85-5f34cb83f4b0"
      },
      "execution_count": null,
      "outputs": [
        {
          "output_type": "stream",
          "name": "stdout",
          "text": [
            "MAE:  14.110735148995527\n",
            "MSE:  202.67421597279483\n",
            "RMSE:  14.236369480060386\n"
          ]
        }
      ]
    },
    {
      "cell_type": "markdown",
      "source": [
        "Prediction"
      ],
      "metadata": {
        "id": "W5n8U0vAPC_T"
      }
    },
    {
      "cell_type": "code",
      "source": [
        "last_6_days = data['Close'][-6:].values\n",
        "last_6_days_scaled = scaler.transform(last_6_days.reshape(-1, 1))\n",
        "X_pred = []\n",
        "X_pred.append(last_6_days_scaled)\n",
        "X_pred = np.array(X_pred)\n",
        "X_pred = np.reshape(X_pred, (X_pred.shape[0], X_pred.shape[1], 1))"
      ],
      "metadata": {
        "id": "8xhspkKvPElb"
      },
      "execution_count": null,
      "outputs": []
    },
    {
      "cell_type": "code",
      "source": [
        "pred_price = model.predict(X_pred)\n",
        "pred_price = scaler.inverse_transform(pred_price)\n",
        "print('Predicted price for the next day: ', pred_price)"
      ],
      "metadata": {
        "colab": {
          "base_uri": "https://localhost:8080/"
        },
        "id": "j7Sf4a8LPHUT",
        "outputId": "cba4703b-5424-40b3-dd24-19f17dffdfbc"
      },
      "execution_count": null,
      "outputs": [
        {
          "output_type": "stream",
          "name": "stdout",
          "text": [
            "1/1 [==============================] - 0s 53ms/step\n",
            "Predicted price for the next day:  [[835.51056]]\n"
          ]
        },
        {
          "output_type": "stream",
          "name": "stderr",
          "text": [
            "/usr/local/lib/python3.10/dist-packages/tensorflow/python/data/ops/structured_function.py:258: UserWarning: Even though the `tf.config.experimental_run_functions_eagerly` option is set, this option does not apply to tf.data functions. To force eager execution of tf.data functions, please use `tf.data.experimental.enable_debug_mode()`.\n",
            "  warnings.warn(\n"
          ]
        }
      ]
    },
    {
      "cell_type": "code",
      "source": [
        "import matplotlib.pyplot as plt\n",
        "\n",
        "# Plotting the original test data\n",
        "plt.plot(y_test, label='Actual Price')\n",
        "\n",
        "# Plotting the predicted prices\n",
        "plt.plot(y_pred, label='Predicted Price')\n",
        "\n",
        "plt.title('Actual vs Predicted Price')\n",
        "plt.xlabel('Time')\n",
        "plt.ylabel('Price')\n",
        "plt.legend()\n",
        "plt.grid(True)\n",
        "plt.show()"
      ],
      "metadata": {
        "colab": {
          "base_uri": "https://localhost:8080/",
          "height": 472
        },
        "id": "oRhbNn4tPJyx",
        "outputId": "da76748e-95c7-4554-d806-f0c4fdd0af27"
      },
      "execution_count": null,
      "outputs": [
        {
          "output_type": "display_data",
          "data": {
            "text/plain": [
              "<Figure size 640x480 with 1 Axes>"
            ],
            "image/png": "[encoded data removed]"
          },
          "metadata": {}
        }
      ]
    }
  ]
}